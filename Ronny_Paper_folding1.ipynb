{
  "nbformat": 4,
  "nbformat_minor": 0,
  "metadata": {
    "colab": {
      "provenance": [],
      "authorship_tag": "ABX9TyNOmgT43XinNfrQEBTW3cxe",
      "include_colab_link": true
    },
    "kernelspec": {
      "name": "python3",
      "display_name": "Python 3"
    },
    "language_info": {
      "name": "python"
    }
  },
  "cells": [
    {
      "cell_type": "markdown",
      "metadata": {
        "id": "view-in-github",
        "colab_type": "text"
      },
      "source": [
        "<a href=\"https://colab.research.google.com/github/Undasnr/DL-ML/blob/main/Ronny_Paper_folding1.ipynb\" target=\"_parent\"><img src=\"https://colab.research.google.com/assets/colab-badge.svg\" alt=\"Open In Colab\"/></a>"
      ]
    },
    {
      "cell_type": "markdown",
      "source": [
        "**Paper Folding Assignment**"
      ],
      "metadata": {
        "id": "pt76t712lP3O"
      }
    },
    {
      "cell_type": "code",
      "source": [
        "#Intial thickness of paper = 0.00008m\n",
        "# Using the arithmetic exponentiation operator to find the thickness after folding the paper 43 times\n",
        "\n",
        "THICKNESS = 0.00008\n",
        "\n",
        "folded_thickness = THICKNESS * (2 ** 43)\n",
        "\n",
        "print(\"THICKNESS: {} meters\".format(folded_thickness))"
      ],
      "metadata": {
        "colab": {
          "base_uri": "https://localhost:8080/"
        },
        "id": "oQXY6O5IlgZr",
        "outputId": "8927d928-9927-42a4-f035-0e4f165d7c5d"
      },
      "execution_count": 1,
      "outputs": [
        {
          "output_type": "stream",
          "name": "stdout",
          "text": [
            "THICKNESS: 703687441.77664 meters\n"
          ]
        }
      ]
    },
    {
      "cell_type": "code",
      "source": [
        "#Converting meters into kilometers and only show two decimal points\n",
        "\n",
        "print(\"THICKNESS: {:.2f} kilometers\".format(folded_thickness / 1000))"
      ],
      "metadata": {
        "colab": {
          "base_uri": "https://localhost:8080/"
        },
        "id": "fE3lI3z8lsgc",
        "outputId": "1bfade24-45c2-497b-e97e-98ab68373f5a"
      },
      "execution_count": 2,
      "outputs": [
        {
          "output_type": "stream",
          "name": "stdout",
          "text": [
            "THICKNESS: 703687.44 kilometers\n"
          ]
        }
      ]
    },
    {
      "cell_type": "code",
      "source": [
        "# Calculating the thickness of paper after 43 folds using a for loop\n",
        "\n",
        "current_thickness = 0.00008\n",
        "for i in range(43):\n",
        "  current_thickness *= 2\n",
        "\n",
        "print(\"Thickness: {:.2f} meters\".format(current_thickness))"
      ],
      "metadata": {
        "colab": {
          "base_uri": "https://localhost:8080/"
        },
        "id": "KkjMSZOyl1v0",
        "outputId": "21d19dae-3eca-44f4-c021-987303771276"
      },
      "execution_count": 3,
      "outputs": [
        {
          "output_type": "stream",
          "name": "stdout",
          "text": [
            "Thickness: 703687441.78 meters\n"
          ]
        }
      ]
    },
    {
      "cell_type": "code",
      "source": [
        "# Comparing which way is faster\n",
        "\n",
        "import time\n",
        "start = time.time()\n",
        "\n",
        "THICKNESS = 0.00008\n",
        "folded_thickness = THICKNESS * (2 ** 43)\n",
        "\n",
        "elapsed_time = time.time() - start\n",
        "print(\"time : {}[s]\".format(elapsed_time))\n"
      ],
      "metadata": {
        "colab": {
          "base_uri": "https://localhost:8080/"
        },
        "id": "SJwBiApJl_H-",
        "outputId": "c1bac788-8345-4c32-a2c1-700afafd27fd"
      },
      "execution_count": 4,
      "outputs": [
        {
          "output_type": "stream",
          "name": "stdout",
          "text": [
            "time : 0.0001251697540283203[s]\n"
          ]
        }
      ]
    },
    {
      "cell_type": "code",
      "source": [
        "import time\n",
        "start = time.time()\n",
        "\n",
        "current_thickness = 0.00008\n",
        "for i in range(43):\n",
        "  current_thickness *= 2\n",
        "\n",
        "elapsed_time = time.time() - start\n",
        "print(\"time : {}[s]\".format(elapsed_time))"
      ],
      "metadata": {
        "colab": {
          "base_uri": "https://localhost:8080/"
        },
        "id": "IOAcWAngmHCU",
        "outputId": "636b7555-c937-451f-ec33-59954c294c41"
      },
      "execution_count": 5,
      "outputs": [
        {
          "output_type": "stream",
          "name": "stdout",
          "text": [
            "time : 0.0001552104949951172[s]\n"
          ]
        }
      ]
    },
    {
      "cell_type": "code",
      "source": [
        "# Observing in a graph how the thickness of a paper increases after each fold\n",
        "\n",
        "# Preparing an empty list to store thickness\n",
        "thickness_list = []\n",
        "\n",
        "current_thickness = 0.00008\n",
        "\n",
        "# Add the thickness before any folds to the list\n",
        "thickness_list.append(current_thickness)\n",
        "\n",
        "# Using for loop to calculate and save thickness for each fold\n",
        "for i in range(43):\n",
        "  current_thickness *= 2\n",
        "  thickness_list.append(current_thickness)\n",
        "\n",
        "print(\"Number of values in the list:\", len(thickness_list))"
      ],
      "metadata": {
        "colab": {
          "base_uri": "https://localhost:8080/"
        },
        "id": "bxb-ADqsmSor",
        "outputId": "edbd8fc3-f004-4f4e-973e-b0b9fa7cfdc3"
      },
      "execution_count": 6,
      "outputs": [
        {
          "output_type": "stream",
          "name": "stdout",
          "text": [
            "Number of values in the list: 44\n"
          ]
        }
      ]
    },
    {
      "cell_type": "code",
      "source": [
        "# Displaying a line graph\n",
        "\n",
        "import matplotlib.pyplot as plt\n",
        "%matplotlib inline\n",
        "\n",
        "plt.title(\"Thickness of Folded Paper\")\n",
        "plt.xlabel(\"Number of Folds\")\n",
        "plt.ylabel(\"Thickness [m]\")\n",
        "plt.plot(thickness_list)\n",
        "plt.show()"
      ],
      "metadata": {
        "colab": {
          "base_uri": "https://localhost:8080/",
          "height": 472
        },
        "id": "O6Y3SnAqmZ8b",
        "outputId": "1e7d50c0-d9b2-41c5-ba41-202bbca4302e"
      },
      "execution_count": 7,
      "outputs": [
        {
          "output_type": "display_data",
          "data": {
            "text/plain": [
              "<Figure size 640x480 with 1 Axes>"
            ],
            "image/png": "[encoded data removed]"
          },
          "metadata": {}
        }
      ]
    },
    {
      "cell_type": "markdown",
      "source": [],
      "metadata": {
        "id": "HLfoHLlulMVN"
      }
    },
    {
      "cell_type": "code",
      "source": [
        "# Customizing the graph\n",
        "\n",
        "import matplotlib.pyplot as plt\n",
        "%matplotlib inline\n",
        "\n",
        "plt.title(\"Thickness of Folded Paper\")\n",
        "plt.xlabel(\"Number of Folds\")\n",
        "plt.ylabel(\"Thickness [m]\")\n",
        "plt.plot(thickness_list, linestyle=\":\", color=\"red\", linewidth=5)\n",
        "plt.tick_params(labelsize=20)\n",
        "plt.show()"
      ],
      "metadata": {
        "colab": {
          "base_uri": "https://localhost:8080/",
          "height": 486
        },
        "id": "uQ-LODy4mi_E",
        "outputId": "f77e7dd7-6fe9-44de-9d5a-1478cf6094b5"
      },
      "execution_count": 8,
      "outputs": [
        {
          "output_type": "display_data",
          "data": {
            "text/plain": [
              "<Figure size 640x480 with 1 Axes>"
            ],
            "image/png": "[encoded data removed]"
          },
          "metadata": {}
        }
      ]
    }
  ]
}