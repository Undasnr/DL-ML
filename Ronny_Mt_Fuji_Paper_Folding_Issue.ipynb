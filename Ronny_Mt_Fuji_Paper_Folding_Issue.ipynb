{
  "nbformat": 4,
  "nbformat_minor": 0,
  "metadata": {
    "colab": {
      "provenance": [],
      "authorship_tag": "ABX9TyM0kmutwYUnyW2wDqfFDhT0",
      "include_colab_link": true
    },
    "kernelspec": {
      "name": "python3",
      "display_name": "Python 3"
    },
    "language_info": {
      "name": "python"
    }
  },
  "cells": [
    {
      "cell_type": "markdown",
      "metadata": {
        "id": "view-in-github",
        "colab_type": "text"
      },
      "source": [
        "<a href=\"https://colab.research.google.com/github/Undasnr/DL-ML/blob/main/Ronny_Mt_Fuji_Paper_Folding_Issue.ipynb\" target=\"_parent\"><img src=\"https://colab.research.google.com/assets/colab-badge.svg\" alt=\"Open In Colab\"/></a>"
      ]
    },
    {
      "cell_type": "markdown",
      "source": [
        "**Mt. Fuji Paper Folding Issue**"
      ],
      "metadata": {
        "id": "E66FIkXNSUCw"
      }
    },
    {
      "cell_type": "code",
      "execution_count": 1,
      "metadata": {
        "colab": {
          "base_uri": "https://localhost:8080/"
        },
        "id": "JfD6dOuqSQPx",
        "outputId": "97125891-16ae-4e97-f8f5-15f8d0e9acf9"
      },
      "outputs": [
        {
          "output_type": "stream",
          "name": "stdout",
          "text": [
            "Number of folds required to exceed the height of Mt. Fuji: 26\n"
          ]
        }
      ],
      "source": [
        "import math\n",
        "\n",
        "# Initial thickness of paper (t0) meters\n",
        "t0 = 0.00008\n",
        "\n",
        "# Height of Mt. Fuji (3776 meters)\n",
        "mt_fuji_height = 3776\n",
        "\n",
        "# Calculate the number of folds to exceed the height of Mt. Fuji\n",
        "def folds_to_exceed_height(target_height, t0):\n",
        "  n = 0\n",
        "  thickness = t0\n",
        "  while thickness <= target_height:\n",
        "    thickness *= 2\n",
        "    n += 1\n",
        "  return n\n",
        "\n",
        "# Number of folds required to exceed Mt. Fuji height\n",
        "mt_fuji_folds = folds_to_exceed_height(mt_fuji_height, t0)\n",
        "print(f\"Number of folds required to exceed the height of Mt. Fuji: {mt_fuji_folds}\")"
      ]
    },
    {
      "cell_type": "markdown",
      "source": [
        "**Generalizing the method to get the number of folds for any height**"
      ],
      "metadata": {
        "id": "lvBykENqynFz"
      }
    },
    {
      "cell_type": "code",
      "source": [
        "def calculate_folds(target_height, t0):\n",
        "\n",
        "  # Use logarithmic formula to calculate the number of folds required\n",
        "  n = math.ceil(math.log2(target_height / t0))\n",
        "  return n\n",
        "\n",
        "proxima_centauri_distance = 4.0175 * 10 **16\n",
        "proxima_centauri_folds = calculate_folds(proxima_centauri_distance, t0)\n",
        "print(f\"Number of folds required to reach Proxima Centauri: {proxima_centauri_folds}\")"
      ],
      "metadata": {
        "colab": {
          "base_uri": "https://localhost:8080/"
        },
        "id": "MOMCAc0gy60v",
        "outputId": "6928ec59-cb51-44b7-9323-76073fa18886"
      },
      "execution_count": 2,
      "outputs": [
        {
          "output_type": "stream",
          "name": "stdout",
          "text": [
            "Number of folds required to reach Proxima Centauri: 69\n"
          ]
        }
      ]
    },
    {
      "cell_type": "markdown",
      "source": [
        "**The required paper length for folding**"
      ],
      "metadata": {
        "id": "wuzBYEwL0cOw"
      }
    },
    {
      "cell_type": "code",
      "source": [
        "def required_paper_length(t0, n):\n",
        "  # Formula for paper length required to fold the paper n times\n",
        "  length = math.pi * (t0 ** 6) / ((2 * n + 4) * (2 * n - 1))\n",
        "  return length\n",
        "\n",
        "# The required paper length for Mt. Fuji\n",
        "mt_fuji_length = required_paper_length(t0, mt_fuji_folds)\n",
        "print(f\"Required paper length to reach the height of Mt. Fuji: {mt_fuji_length:.2e} meters\")\n",
        "\n",
        "# The required paper length for Proxima Centauri\n",
        "proxima_centauri_length = required_paper_length(t0, proxima_centauri_folds)\n",
        "print(f\"Required paper length to reach Proxima Centauri: {proxima_centauri_length:.2e} meters\")"
      ],
      "metadata": {
        "colab": {
          "base_uri": "https://localhost:8080/"
        },
        "id": "SR4iq-Hd0jf0",
        "outputId": "97c2f443-2fdd-4a33-9eaa-415f182380d5"
      },
      "execution_count": 3,
      "outputs": [
        {
          "output_type": "stream",
          "name": "stdout",
          "text": [
            "Required paper length to reach the height of Mt. Fuji: 2.88e-28 meters\n",
            "Required paper length to reach Proxima Centauri: 4.23e-29 meters\n"
          ]
        }
      ]
    }
  ]
}