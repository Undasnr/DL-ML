{
  "nbformat": 4,
  "nbformat_minor": 0,
  "metadata": {
    "colab": {
      "provenance": [],
      "authorship_tag": "ABX9TyPHemPHgj+MrPjUGrtTKPuL",
      "include_colab_link": true
    },
    "kernelspec": {
      "name": "python3",
      "display_name": "Python 3"
    },
    "language_info": {
      "name": "python"
    }
  },
  "cells": [
    {
      "cell_type": "markdown",
      "metadata": {
        "id": "view-in-github",
        "colab_type": "text"
      },
      "source": [
        "<a href=\"https://colab.research.google.com/github/Undasnr/DL-ML/blob/main/Ronny1.ipynb\" target=\"_parent\"><img src=\"https://colab.research.google.com/assets/colab-badge.svg\" alt=\"Open In Colab\"/></a>"
      ]
    },
    {
      "cell_type": "code",
      "source": [
        "print(\"Hello, World!\")"
      ],
      "metadata": {
        "colab": {
          "base_uri": "https://localhost:8080/"
        },
        "id": "vhgP9WcgstkU",
        "outputId": "7bad6c50-f8b6-4cbb-e8c3-cb207b1d2fd9"
      },
      "execution_count": null,
      "outputs": [
        {
          "output_type": "stream",
          "name": "stdout",
          "text": [
            "Hello, World!\n"
          ]
        }
      ]
    },
    {
      "cell_type": "code",
      "source": [
        "print(\"Hello, Colab!\")\n",
        "print(\"Hello, Python!\")"
      ],
      "metadata": {
        "colab": {
          "base_uri": "https://localhost:8080/"
        },
        "id": "OL0jar46thpz",
        "outputId": "d7f2c130-7d0b-477a-abfd-1402568af8e6"
      },
      "execution_count": null,
      "outputs": [
        {
          "output_type": "stream",
          "name": "stdout",
          "text": [
            "Hello, Colab!\n",
            "Hello, Python!\n"
          ]
        }
      ]
    },
    {
      "cell_type": "code",
      "source": [
        "print(\"Hello, Colab!\")"
      ],
      "metadata": {
        "colab": {
          "base_uri": "https://localhost:8080/"
        },
        "id": "Oo6IDJF8uTH5",
        "outputId": "a66470b1-5250-4394-ff52-08f0deed8a61"
      },
      "execution_count": null,
      "outputs": [
        {
          "output_type": "stream",
          "name": "stdout",
          "text": [
            "Hello, Colab!\n"
          ]
        }
      ]
    },
    {
      "cell_type": "markdown",
      "source": [
        "#What a wonderful tool!"
      ],
      "metadata": {
        "id": "WDRO-mYqv8uT"
      }
    },
    {
      "cell_type": "code",
      "source": [
        "print(\"Hello, Colab!\")"
      ],
      "metadata": {
        "colab": {
          "base_uri": "https://localhost:8080/"
        },
        "id": "hdKEarxZxDUk",
        "outputId": "773265bc-2b7e-4edc-bba6-6e5e8ad58a33"
      },
      "execution_count": null,
      "outputs": [
        {
          "output_type": "stream",
          "name": "stdout",
          "text": [
            "Hello, Colab!\n"
          ]
        }
      ]
    },
    {
      "cell_type": "code",
      "source": [],
      "metadata": {
        "id": "EHLVS-k5yDx1"
      },
      "execution_count": null,
      "outputs": []
    },
    {
      "cell_type": "markdown",
      "source": [
        "#Find the value of y\n",
        "\n",
        "$$\n",
        "y=2x+1\n",
        "$$\n"
      ],
      "metadata": {
        "id": "KKbBBLUYycnq"
      }
    },
    {
      "cell_type": "code",
      "source": [
        "import numpy as np\n",
        "import pandas as pd\n",
        "from sklearn.datasets import load_iris"
      ],
      "metadata": {
        "id": "ELZO6FsbzCe-"
      },
      "execution_count": null,
      "outputs": []
    },
    {
      "cell_type": "markdown",
      "source": [
        "Check the data summary"
      ],
      "metadata": {
        "id": "kch5Fd-DR1gt"
      }
    },
    {
      "cell_type": "code",
      "source": [
        "iris_dataset = load_iris()\n",
        "X = pd.DataFrame(iris_dataset.data, columns=[\"sepal_length\", \"sepal_width\", \"petal_length\", \"petal_width\"])\n",
        "display(X.head(5))"
      ],
      "metadata": {
        "id": "fTx0gFTHR6i9"
      },
      "execution_count": null,
      "outputs": []
    },
    {
      "cell_type": "code",
      "source": [
        "  sepal_length | sepal_width | petal_length | petal_width\n",
        "0   5.1             3.5           1.4           0.2\n",
        "1   4.9             3.0           1.4           0.2\n",
        "2   4.7             3.2           1.3           0.2\n",
        "3   4.6             3.1           1.5           0.2\n",
        "4   5.0             3.6           1.4           0.2"
      ],
      "metadata": {
        "colab": {
          "base_uri": "https://localhost:8080/",
          "height": 106
        },
        "id": "odjmdFtIZnmx",
        "outputId": "4deabeea-f6e9-463b-e138-7f19ced8d4ab"
      },
      "execution_count": 1,
      "outputs": [
        {
          "output_type": "error",
          "ename": "SyntaxError",
          "evalue": "invalid syntax (<ipython-input-1-368a31703b99>, line 2)",
          "traceback": [
            "\u001b[0;36m  File \u001b[0;32m\"<ipython-input-1-368a31703b99>\"\u001b[0;36m, line \u001b[0;32m2\u001b[0m\n\u001b[0;31m    0   5.1             3.5           1.4           0.2\u001b[0m\n\u001b[0m        ^\u001b[0m\n\u001b[0;31mSyntaxError\u001b[0m\u001b[0;31m:\u001b[0m invalid syntax\n"
          ]
        }
      ]
    },
    {
      "cell_type": "markdown",
      "source": [
        "# heading 1\n",
        "\n",
        "You can write sentences in Markdown notation.\n",
        "\n",
        "## heading 2\n",
        "\n",
        "**strong**\n",
        "\n",
        "You can also write formulas.\n",
        "\n",
        "$$\n",
        "y=2x+1\n",
        "$$\n",
        "\n",
        "When writing python code, use code blocks."
      ],
      "metadata": {
        "id": "2hidEkvqjUgk"
      }
    },
    {
      "cell_type": "code",
      "source": [
        "print(\"Hello, World\")"
      ],
      "metadata": {
        "id": "XCOEV9QHj9DX"
      },
      "execution_count": null,
      "outputs": []
    },
    {
      "cell_type": "markdown",
      "source": [
        "Unordered Lists\n",
        "Unordered Lists\n",
        "  Unordered Lists\n",
        "\n",
        "blockquotes"
      ],
      "metadata": {
        "id": "VvJ8FOnjkFuu"
      }
    },
    {
      "cell_type": "code",
      "source": [],
      "metadata": {
        "id": "_ro7Vlv5kstJ"
      },
      "execution_count": null,
      "outputs": []
    },
    {
      "cell_type": "code",
      "source": [
        "import pandas as pd\n",
        "data = {\n",
        "    \"sepal_length\": [5.1, 4.9, 4.7, 4.6, 5.0],\n",
        "    \"sepal_width\": [3.5, 3.0, 3.2, 3.1, 3.6],\n",
        "    \"petal_length\": [1.4, 1.4, 1.3, 1.5, 1.4],\n",
        "    \"petal_width\": [0.2, 0.2, 0.2, 0.2, 0.2]\n",
        "}\n",
        "df = pd.DataFrame(data)\n",
        "print (df)"
      ],
      "metadata": {
        "colab": {
          "base_uri": "https://localhost:8080/"
        },
        "id": "8l62oU6Am5zU",
        "outputId": "47c12137-7d77-4258-b440-595213f81249"
      },
      "execution_count": 2,
      "outputs": [
        {
          "output_type": "stream",
          "name": "stdout",
          "text": [
            "   sepal_length  sepal_width  petal_length  petal_width\n",
            "0           5.1          3.5           1.4          0.2\n",
            "1           4.9          3.0           1.4          0.2\n",
            "2           4.7          3.2           1.3          0.2\n",
            "3           4.6          3.1           1.5          0.2\n",
            "4           5.0          3.6           1.4          0.2\n"
          ]
        }
      ]
    },
    {
      "cell_type": "code",
      "source": [
        "num = 3 + 5\n",
        "print(num)"
      ],
      "metadata": {
        "colab": {
          "base_uri": "https://localhost:8080/"
        },
        "id": "RhHvtibLo4Qr",
        "outputId": "70602eb7-3c9f-4085-d213-0e3a15da13d7"
      },
      "execution_count": 3,
      "outputs": [
        {
          "output_type": "stream",
          "name": "stdout",
          "text": [
            "8\n"
          ]
        }
      ]
    },
    {
      "cell_type": "code",
      "source": [
        "num"
      ],
      "metadata": {
        "colab": {
          "base_uri": "https://localhost:8080/"
        },
        "id": "_a9Zj9qcpXRR",
        "outputId": "fa3982d6-a28b-4a1c-d539-e8f83de02e1e"
      },
      "execution_count": 4,
      "outputs": [
        {
          "output_type": "execute_result",
          "data": {
            "text/plain": [
              "8"
            ]
          },
          "metadata": {},
          "execution_count": 4
        }
      ]
    },
    {
      "cell_type": "code",
      "source": [
        "num = 1970 + 2330\n",
        "print(num)"
      ],
      "metadata": {
        "colab": {
          "base_uri": "https://localhost:8080/"
        },
        "id": "_-yvTL_lpi5a",
        "outputId": "5ab5df4a-1e53-4615-eeab-ec89492f8f20"
      },
      "execution_count": 5,
      "outputs": [
        {
          "output_type": "stream",
          "name": "stdout",
          "text": [
            "4300\n"
          ]
        }
      ]
    },
    {
      "cell_type": "code",
      "source": [
        "print(\"Hello, World; I love machine learning and data science\")"
      ],
      "metadata": {
        "colab": {
          "base_uri": "https://localhost:8080/"
        },
        "id": "WUZQyBhopybo",
        "outputId": "e4370fb6-fe4d-48b3-a782-0c85b0cca424"
      },
      "execution_count": 6,
      "outputs": [
        {
          "output_type": "stream",
          "name": "stdout",
          "text": [
            "Hello, World; I love machine learning and data science\n"
          ]
        }
      ]
    },
    {
      "cell_type": "code",
      "source": [],
      "metadata": {
        "id": "nP3hBACr3RP0"
      },
      "execution_count": null,
      "outputs": []
    }
  ]
}