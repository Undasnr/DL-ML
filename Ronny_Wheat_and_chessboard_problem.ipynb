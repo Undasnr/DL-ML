{
  "nbformat": 4,
  "nbformat_minor": 0,
  "metadata": {
    "colab": {
      "provenance": [],
      "authorship_tag": "ABX9TyMqjyraeQnFMkiCTeWgEMXm",
      "include_colab_link": true
    },
    "kernelspec": {
      "name": "python3",
      "display_name": "Python 3"
    },
    "language_info": {
      "name": "python"
    }
  },
  "cells": [
    {
      "cell_type": "markdown",
      "metadata": {
        "id": "view-in-github",
        "colab_type": "text"
      },
      "source": [
        "<a href=\"https://colab.research.google.com/github/Undasnr/DL-ML/blob/main/Ronny_Wheat_and_chessboard_problem.ipynb\" target=\"_parent\"><img src=\"https://colab.research.google.com/assets/colab-badge.svg\" alt=\"Open In Colab\"/></a>"
      ]
    },
    {
      "cell_type": "code",
      "execution_count": 3,
      "metadata": {
        "colab": {
          "base_uri": "https://localhost:8080/"
        },
        "id": "efZl6pdqeeTz",
        "outputId": "187945b2-3695-4913-927f-6d7c153ee2a1"
      },
      "outputs": [
        {
          "output_type": "stream",
          "name": "stdout",
          "text": [
            "[1, 2, 4, 8]\n"
          ]
        }
      ],
      "source": [
        "wheat_list = [1] # start with one grain\n",
        "for _ in range(3): #4 squares needed in total\n",
        "  wheat_list.append(2 * wheat_list[-1])\n",
        "print(wheat_list)"
      ]
    },
    {
      "cell_type": "code",
      "source": [
        "import numpy as np\n",
        "wheat_array = np.array(wheat_list)\n",
        "print(wheat_array)"
      ],
      "metadata": {
        "colab": {
          "base_uri": "https://localhost:8080/"
        },
        "id": "Xwy9UR9rg2Ve",
        "outputId": "fb4646f9-f38b-4e3e-e5d9-6a90db542c9e"
      },
      "execution_count": 4,
      "outputs": [
        {
          "output_type": "stream",
          "name": "stdout",
          "text": [
            "[1 2 4 8]\n"
          ]
        }
      ]
    },
    {
      "cell_type": "markdown",
      "source": [
        "Reshape the array to 2*2"
      ],
      "metadata": {
        "id": "FxpVKFHih_Y5"
      }
    },
    {
      "cell_type": "code",
      "source": [
        "chessboard_2x2 = wheat_array.reshape((2, 2))\n",
        "print(chessboard_2x2)"
      ],
      "metadata": {
        "colab": {
          "base_uri": "https://localhost:8080/"
        },
        "id": "UTU9LlyShzCj",
        "outputId": "9dab1120-9431-4d1c-f4e1-cfebec4952e5"
      },
      "execution_count": 10,
      "outputs": [
        {
          "output_type": "stream",
          "name": "stdout",
          "text": [
            "[[1 2]\n",
            " [4 8]]\n"
          ]
        }
      ]
    },
    {
      "cell_type": "markdown",
      "source": [
        "Expansion to n * m mass"
      ],
      "metadata": {
        "id": "BLJyKv77_nux"
      }
    },
    {
      "cell_type": "code",
      "source": [
        "import numpy as np\n",
        "def create_chessboard(n, m):\n",
        "  num_squares = n * m\n",
        "  indices_of_squares = np.arange(num_squares, dtype=np.uint64)\n",
        "  board = 2**indices_of_squares\n",
        "  return board.reshape(n, m)\n",
        "\n",
        "board_8x8 = create_chessboard(8, 8)\n",
        "print(\"8x8 Chessboard (first 4 rows):\\n\", board_8x8[:4, :])\n"
      ],
      "metadata": {
        "colab": {
          "base_uri": "https://localhost:8080/"
        },
        "id": "2Ev0HSMaihEV",
        "outputId": "c9261299-3e2c-4664-f705-0d05fe83b8fd"
      },
      "execution_count": 13,
      "outputs": [
        {
          "output_type": "stream",
          "name": "stdout",
          "text": [
            "8x8 Chessboard (first 4 rows):\n",
            " [[         1          2          4          8         16         32\n",
            "          64        128]\n",
            " [       256        512       1024       2048       4096       8192\n",
            "       16384      32768]\n",
            " [     65536     131072     262144     524288    1048576    2097152\n",
            "     4194304    8388608]\n",
            " [  16777216   33554432   67108864  134217728  268435456  536870912\n",
            "  1073741824 2147483648]]\n"
          ]
        }
      ]
    },
    {
      "cell_type": "markdown",
      "source": [
        "Total number of wheat and bar chart"
      ],
      "metadata": {
        "id": "wDkq_Q_PDg8u"
      }
    },
    {
      "cell_type": "code",
      "source": [
        "import numpy as np\n",
        "import matplotlib.pyplot as plt\n",
        "\n",
        "# Assume board_8x8 is the 8x8 array from the above array\n",
        "total_wheat = np.sum(board_8x8)\n",
        "column_averages = board_8x8.mean(axis=0)\n",
        "\n",
        "print(\"Total number of wheat on the 8x8 board:\", total_wheat)\n",
        "print(\"Average number of wheat per column:\", column_averages)\n",
        "\n",
        "plt.figure(figsize=(10, 6))\n",
        "plt.xlabel(\"Column\")\n",
        "plt.ylabel(\"Average number of wheat\")\n",
        "plt.title(\"Average number of wheat per column on an 8x8 board\")\n",
        "plt.bar(np.arange(1, 9), column_averages)\n",
        "plt.show"
      ],
      "metadata": {
        "colab": {
          "base_uri": "https://localhost:8080/",
          "height": 786
        },
        "id": "KBIDneFYDngG",
        "outputId": "393b792f-d7e4-4499-fcdc-27399ad9750b"
      },
      "execution_count": 15,
      "outputs": [
        {
          "output_type": "stream",
          "name": "stdout",
          "text": [
            "Total number of wheat on the 8x8 board: 18446744073709551615\n",
            "Average number of wheat per column: [9.04252160e+15 1.80850432e+16 3.61700864e+16 7.23401728e+16\n",
            " 1.44680346e+17 2.89360691e+17 5.78721383e+17 1.15744277e+18]\n"
          ]
        },
        {
          "output_type": "execute_result",
          "data": {
            "text/plain": [
              "<function matplotlib.pyplot.show(close=None, block=None)>"
            ],
            "text/html": [
              "<div style=\"max-width:800px; border: 1px solid var(--colab-border-color);\"><style>\n",
              "      pre.function-repr-contents {\n",
              "        overflow-x: auto;\n",
              "        padding: 8px 12px;\n",
              "        max-height: 500px;\n",
              "      }\n",
              "\n",
              "      pre.function-repr-contents.function-repr-contents-collapsed {\n",
              "        cursor: pointer;\n",
              "        max-height: 100px;\n",
              "      }\n",
              "    </style>\n",
              "    <pre style=\"white-space: initial; background:\n",
              "         var(--colab-secondary-surface-color); padding: 8px 12px;\n",
              "         border-bottom: 1px solid var(--colab-border-color);\"><b>matplotlib.pyplot.show</b><br/>def show(*args, **kwargs) -&gt; None</pre><pre class=\"function-repr-contents function-repr-contents-collapsed\" style=\"\"><a class=\"filepath\" style=\"display:none\" href=\"#\">/usr/local/lib/python3.11/dist-packages/matplotlib/pyplot.py</a>Display all open figures.\n",
              "\n",
              "Parameters\n",
              "----------\n",
              "block : bool, optional\n",
              "    Whether to wait for all figures to be closed before returning.\n",
              "\n",
              "    If `True` block and run the GUI main loop until all figure windows\n",
              "    are closed.\n",
              "\n",
              "    If `False` ensure that all figure windows are displayed and return\n",
              "    immediately.  In this case, you are responsible for ensuring\n",
              "    that the event loop is running to have responsive figures.\n",
              "\n",
              "    Defaults to True in non-interactive mode and to False in interactive\n",
              "    mode (see `.pyplot.isinteractive`).\n",
              "\n",
              "See Also\n",
              "--------\n",
              "ion : Enable interactive mode, which shows / updates the figure after\n",
              "      every plotting command, so that calling ``show()`` is not necessary.\n",
              "ioff : Disable interactive mode.\n",
              "savefig : Save the figure to an image file instead of showing it on screen.\n",
              "\n",
              "Notes\n",
              "-----\n",
              "**Saving figures to file and showing a window at the same time**\n",
              "\n",
              "If you want an image file as well as a user interface window, use\n",
              "`.pyplot.savefig` before `.pyplot.show`. At the end of (a blocking)\n",
              "``show()`` the figure is closed and thus unregistered from pyplot. Calling\n",
              "`.pyplot.savefig` afterwards would save a new and thus empty figure. This\n",
              "limitation of command order does not apply if the show is non-blocking or\n",
              "if you keep a reference to the figure and use `.Figure.savefig`.\n",
              "\n",
              "**Auto-show in jupyter notebooks**\n",
              "\n",
              "The jupyter backends (activated via ``%matplotlib inline``,\n",
              "``%matplotlib notebook``, or ``%matplotlib widget``), call ``show()`` at\n",
              "the end of every cell by default. Thus, you usually don&#x27;t have to call it\n",
              "explicitly there.</pre>\n",
              "      <script>\n",
              "      if (google.colab.kernel.accessAllowed && google.colab.files && google.colab.files.view) {\n",
              "        for (const element of document.querySelectorAll('.filepath')) {\n",
              "          element.style.display = 'block'\n",
              "          element.onclick = (event) => {\n",
              "            event.preventDefault();\n",
              "            event.stopPropagation();\n",
              "            google.colab.files.view(element.textContent, 569);\n",
              "          };\n",
              "        }\n",
              "      }\n",
              "      for (const element of document.querySelectorAll('.function-repr-contents')) {\n",
              "        element.onclick = (event) => {\n",
              "          event.preventDefault();\n",
              "          event.stopPropagation();\n",
              "          element.classList.toggle('function-repr-contents-collapsed');\n",
              "        };\n",
              "      }\n",
              "      </script>\n",
              "      </div>"
            ]
          },
          "metadata": {},
          "execution_count": 15
        },
        {
          "output_type": "display_data",
          "data": {
            "text/plain": [
              "<Figure size 1000x600 with 1 Axes>"
            ],
            "image/png": "[encoded data removed]"
          },
          "metadata": {}
        }
      ]
    },
    {
      "cell_type": "markdown",
      "source": [
        "Heat Map of the number of wheat"
      ],
      "metadata": {
        "id": "KTPq4WVGHQDR"
      }
    },
    {
      "cell_type": "code",
      "source": [
        "# Assume that board_8x8 is the 8x8 array above\n",
        "\n",
        "plt.figure(figsize=(10, 8))\n",
        "plt.xlabel(\"Column\")\n",
        "plt.ylabel(\"Row\")\n",
        "plt.title(\"Heatmap\")\n",
        "plt.pcolor(np.array([0, 1, 3, 5, 7,9, 11, 13]).reshape(4, 2))\n",
        "plt.show()"
      ],
      "metadata": {
        "colab": {
          "base_uri": "https://localhost:8080/",
          "height": 718
        },
        "id": "vUtvnvsQHWtp",
        "outputId": "dd5afd07-496a-4673-94b1-1a889e12e519"
      },
      "execution_count": 21,
      "outputs": [
        {
          "output_type": "display_data",
          "data": {
            "text/plain": [
              "<Figure size 1000x800 with 1 Axes>"
            ],
            "image/png": "[encoded data removed]"
          },
          "metadata": {}
        }
      ]
    },
    {
      "cell_type": "markdown",
      "source": [
        "How many times is the second half as long as the first half"
      ],
      "metadata": {
        "id": "HKymCZG4f4L4"
      }
    },
    {
      "cell_type": "code",
      "source": [
        "# Assume board_8x8 is the 8x8 array above\n",
        "\n",
        "first_half = board_8x8[0:4, :]\n",
        "second_half = board_8x8[4:8, :]\n",
        "\n",
        "sum_first_half = first_half.sum()\n",
        "sum_second_half = second_half.sum()\n",
        "ratio = sum_second_half / sum_first_half\n",
        "\n",
        "print(\"Sum of wheat in the first half:\", sum_first_half)\n",
        "print(\"Sum of wheat in the second half:\", sum_second_half)\n",
        "print(f\"The second half is {ratio: .0f} times larger than the first half.\")"
      ],
      "metadata": {
        "colab": {
          "base_uri": "https://localhost:8080/"
        },
        "id": "uuQESNXugY5X",
        "outputId": "210f68f2-ac27-4752-f42b-50bf9b9a180b"
      },
      "execution_count": 22,
      "outputs": [
        {
          "output_type": "stream",
          "name": "stdout",
          "text": [
            "Sum of wheat in the first half: 4294967295\n",
            "Sum of wheat in the second half: 18446744069414584320\n",
            "The second half is  4294967296 times larger than the first half.\n"
          ]
        }
      ]
    },
    {
      "cell_type": "markdown",
      "source": [
        "Other Calculation Methods"
      ],
      "metadata": {
        "id": "1hVa36Cyi4vN"
      }
    },
    {
      "cell_type": "code",
      "source": [
        "n_squares = 64\n",
        "board_ndarray = np.array([1], dtype=np.uint64)\n",
        "for _ in range(n_squares -1):\n",
        "  board_ndarray = np.append(board_ndarray, 2 * board_ndarray[-1])\n",
        "print(\"Arrange wheat on a plate of 64 squares (ndarray): {}\".format(board_ndarray))"
      ],
      "metadata": {
        "colab": {
          "base_uri": "https://localhost:8080/"
        },
        "id": "QEk2ihNHi7na",
        "outputId": "fec05f8a-6840-40ad-be7e-67dd11e0317e"
      },
      "execution_count": 42,
      "outputs": [
        {
          "output_type": "stream",
          "name": "stdout",
          "text": [
            "Arrange wheat on a plate of 64 squares (ndarray): [                  1                   2                   4\n",
            "                   8                  16                  32\n",
            "                  64                 128                 256\n",
            "                 512                1024                2048\n",
            "                4096                8192               16384\n",
            "               32768               65536              131072\n",
            "              262144              524288             1048576\n",
            "             2097152             4194304             8388608\n",
            "            16777216            33554432            67108864\n",
            "           134217728           268435456           536870912\n",
            "          1073741824          2147483648          4294967296\n",
            "          8589934592         17179869184         34359738368\n",
            "         68719476736        137438953472        274877906944\n",
            "        549755813888       1099511627776       2199023255552\n",
            "       4398046511104       8796093022208      17592186044416\n",
            "      35184372088832      70368744177664     140737488355328\n",
            "     281474976710656     562949953421312    1125899906842624\n",
            "    2251799813685248    4503599627370496    9007199254740992\n",
            "   18014398509481984   36028797018963968   72057594037927936\n",
            "  144115188075855872  288230376151711744  576460752303423488\n",
            " 1152921504606846976 2305843009213693952 4611686018427387904\n",
            " 9223372036854775808]\n"
          ]
        }
      ]
    },
    {
      "cell_type": "markdown",
      "source": [
        "Using Broadcasting"
      ],
      "metadata": {
        "id": "mTI5Z4gLkzNp"
      }
    },
    {
      "cell_type": "code",
      "source": [
        "n_squares = 64\n",
        "indices_of_squares = np.arange(n_squares, dtype=np.uint64)\n",
        "board_ndarray = 2**indices_of_squares\n",
        "print(\"Number of wheat in the last square (ndarray): {}\".format(board_ndarray))"
      ],
      "metadata": {
        "colab": {
          "base_uri": "https://localhost:8080/"
        },
        "id": "6Kovw8aSk2Pv",
        "outputId": "01bda7cb-1303-4533-cf75-e6e0a39e7b27"
      },
      "execution_count": 41,
      "outputs": [
        {
          "output_type": "stream",
          "name": "stdout",
          "text": [
            "Number of wheat in the last square (ndarray): [                  1                   2                   4\n",
            "                   8                  16                  32\n",
            "                  64                 128                 256\n",
            "                 512                1024                2048\n",
            "                4096                8192               16384\n",
            "               32768               65536              131072\n",
            "              262144              524288             1048576\n",
            "             2097152             4194304             8388608\n",
            "            16777216            33554432            67108864\n",
            "           134217728           268435456           536870912\n",
            "          1073741824          2147483648          4294967296\n",
            "          8589934592         17179869184         34359738368\n",
            "         68719476736        137438953472        274877906944\n",
            "        549755813888       1099511627776       2199023255552\n",
            "       4398046511104       8796093022208      17592186044416\n",
            "      35184372088832      70368744177664     140737488355328\n",
            "     281474976710656     562949953421312    1125899906842624\n",
            "    2251799813685248    4503599627370496    9007199254740992\n",
            "   18014398509481984   36028797018963968   72057594037927936\n",
            "  144115188075855872  288230376151711744  576460752303423488\n",
            " 1152921504606846976 2305843009213693952 4611686018427387904\n",
            " 9223372036854775808]\n"
          ]
        }
      ]
    },
    {
      "cell_type": "markdown",
      "source": [
        "Comparing Calculation Time"
      ],
      "metadata": {
        "id": "VPobawBXqVmh"
      }
    },
    {
      "cell_type": "code",
      "source": [
        "import numpy as np\n",
        "import time\n",
        "\n",
        "# Function 1: Append method\n",
        "def board_append(n_squares):\n",
        "    board = np.array([1], dtype=np.uint64)\n",
        "    for _ in range(n_squares - 1):\n",
        "        board = np.append(board, 2 * board[-1])\n",
        "    return board\n",
        "\n",
        "# Function 2: Broadcast method\n",
        "def board_broadcast(n_squares):\n",
        "    indices = np.arange(n_squares, dtype=np.uint64)\n",
        "    board = 2 ** indices\n",
        "    return board\n",
        "\n",
        "#Timing function\n",
        "def time_function(func, *args):\n",
        "  start_time = time.time()\n",
        "  func(*args)\n",
        "  end_time = time.time()\n",
        "  return end_time - start_time\n",
        "\n",
        "# Comparing execution time\n",
        "n_squares = 64\n",
        "\n",
        "# Timing the broadcast method\n",
        "broadcast_time =time_function(board_broadcast, n_squares)\n",
        "print(f\"Broadcast method took: {broadcast_time: .6f} seconds\")\n",
        "\n",
        "# Timing the append method\n",
        "append_time = time_function(board_append, n_squares)\n",
        "print(f\"Append method took: {append_time: .6f} seconds\")"
      ],
      "metadata": {
        "colab": {
          "base_uri": "https://localhost:8080/"
        },
        "id": "kVeUOCqwqY5s",
        "outputId": "bf8b5b83-4f13-44aa-b87e-201c105543cd"
      },
      "execution_count": 46,
      "outputs": [
        {
          "output_type": "stream",
          "name": "stdout",
          "text": [
            "Broadcast method took:  0.002155 seconds\n",
            "Append method took:  0.000526 seconds\n"
          ]
        }
      ]
    },
    {
      "cell_type": "markdown",
      "source": [
        "Alternative way of comparing the time taken by the broadcast and append methods"
      ],
      "metadata": {
        "id": "PhGkG_Tty_70"
      }
    },
    {
      "cell_type": "code",
      "source": [
        "def board_append(n):\n",
        "    board = np.array([1], dtype=np.uint64)\n",
        "    for _ in range(n - 1):\n",
        "        board = np.append(board, 2 * board[-1])\n",
        "    return board\n",
        "\n",
        "def board_broadcast(n):\n",
        "    return 2 ** np.arange(n, dtype=np.uint64)\n",
        "\n",
        "print(\"Append method:\")\n",
        "%timeit board_append(64)\n",
        "\n",
        "print(\"Broadcast method:\")\n",
        "%timeit board_broadcast(64)"
      ],
      "metadata": {
        "colab": {
          "base_uri": "https://localhost:8080/"
        },
        "id": "2OaXIj7PzHQg",
        "outputId": "f14380b2-e839-4dc9-fe87-865598f1da76"
      },
      "execution_count": 48,
      "outputs": [
        {
          "output_type": "stream",
          "name": "stdout",
          "text": [
            "Append method:\n",
            "233 µs ± 7.36 µs per loop (mean ± std. dev. of 7 runs, 1000 loops each)\n",
            "Broadcast method:\n",
            "2.19 µs ± 90.3 ns per loop (mean ± std. dev. of 7 runs, 100000 loops each)\n"
          ]
        }
      ]
    }
  ]
}