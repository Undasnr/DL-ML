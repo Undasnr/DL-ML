{
  "nbformat": 4,
  "nbformat_minor": 0,
  "metadata": {
    "colab": {
      "provenance": [],
      "authorship_tag": "ABX9TyPJcEBoDWnpHGai0r81zv1M",
      "include_colab_link": true
    },
    "kernelspec": {
      "name": "python3",
      "display_name": "Python 3"
    },
    "language_info": {
      "name": "python"
    }
  },
  "cells": [
    {
      "cell_type": "markdown",
      "metadata": {
        "id": "view-in-github",
        "colab_type": "text"
      },
      "source": [
        "<a href=\"https://colab.research.google.com/github/Undasnr/DL-ML/blob/main/Ronyy_Implementation_of_matrix_product.ipynb\" target=\"_parent\"><img src=\"https://colab.research.google.com/assets/colab-badge.svg\" alt=\"Open In Colab\"/></a>"
      ]
    },
    {
      "cell_type": "markdown",
      "source": [
        "**Calculating the Matric Product Manually**\n",
        "$$\n",
        "A =\n",
        "\\begin{bmatrix}\n",
        "-1 & 2 & 3 \\\\\n",
        "4 & -5 & 6 \\\\\n",
        "7 & 8 & -9\n",
        "\\end{bmatrix}\n",
        "$$\n",
        "\n",
        "\n",
        "$$\n",
        "B =\n",
        "\\begin{bmatrix}\n",
        "0 & 2 & 1 \\\\\n",
        "0 & 2 & -8 \\\\\n",
        "2 & 9 & -1\n",
        "\\end{bmatrix}\n",
        "$$\n",
        "\n",
        "\n",
        "**Solution**\n",
        "\n",
        "First Row of C\n",
        "\n",
        "To find the elements of the first row of C, we take the dot product of the first row of A with each column of B.\n",
        "\n",
        "C11\n",
        " : (Row 1 of A) ⋅ (Column 1 of B)\n",
        "\n",
        "(−1)(0)+(2)(0)+(3)(2)=0+0+6=6\n",
        "\n",
        "C12\n",
        " : (Row 1 of A) ⋅ (Column 2 of B)\n",
        "\n",
        "(−1)(2)+(2)(2)+(3)(9)=−2+4+27=29\n",
        "\n",
        "C13\n",
        " : (Row 1 of A) ⋅ (Column 3 of B)\n",
        "\n",
        "(−1)(1)+(2)(−8)+(3)(−1)=−1−16−3=−20\n",
        "\n",
        "Second Row of C\n",
        "\n",
        "To find the elements of the second row of C, we take the dot product of the second row of A with each column of B.\n",
        "\n",
        "C21\n",
        " : (Row 2 of A) ⋅ (Column 1 of B)\n",
        "\n",
        "(4)(0)+(−5)(0)+(6)(2)=0+0+12=12\n",
        "\n",
        "C22\n",
        " : (Row 2 of A) ⋅ (Column 2 of B)\n",
        "\n",
        "(4)(2)+(−5)(2)+(6)(9)=8−10+54=52\n",
        "\n",
        "C23\n",
        " : (Row 2 of A) ⋅ (Column 3 of B)\n",
        "\n",
        "(4)(1)+(−5)(−8)+(6)(−1)=4+40−6=38\n",
        "\n",
        "Third Row of C\n",
        "\n",
        "To find the elements of the third row of C, we take the dot product of the third row of A with each column of B.\n",
        "\n",
        "C31\n",
        " : (Row 3 of A) ⋅ (Column 1 of B)\n",
        "\n",
        "(7)(0)+(8)(0)+(−9)(2)=0+0−18=−18\n",
        "\n",
        "C32\n",
        " : (Row 3 of A) ⋅ (Column 2 of B)\n",
        "\n",
        "(7)(2)+(8)(2)+(−9)(9)=14+16−81=−51\n",
        "\n",
        "C33\n",
        " : (Row 3 of A) ⋅ (Column 3 of B)\n",
        "\n",
        "(7)(1)+(8)(−8)+(−9)(−1)=7−64+9=−48\n",
        "\n",
        "The resulting matrix C is:\n",
        "\n",
        "$$\n",
        "C =\n",
        "\\begin{bmatrix}\n",
        "6 & 29 & -20 \\\\\n",
        "12 & 52 & 38 \\\\\n",
        "-18 & -51 & -48\n",
        "\\end{bmatrix}\n",
        "$$"
      ],
      "metadata": {
        "id": "yuFlDytnxQP4"
      }
    },
    {
      "cell_type": "markdown",
      "source": [
        "**Calculating by Numpy function**"
      ],
      "metadata": {
        "id": "d_Yrpyn-6Kk6"
      }
    },
    {
      "cell_type": "code",
      "execution_count": 1,
      "metadata": {
        "colab": {
          "base_uri": "https://localhost:8080/"
        },
        "id": "McsAmtbKSSKA",
        "outputId": "d0ca60f4-65c1-4c14-db09-cbd3cf543b16"
      },
      "outputs": [
        {
          "output_type": "stream",
          "name": "stdout",
          "text": [
            "Result using np.matmul():\n",
            "[[  6  29 -20]\n",
            " [ 12  52  38]\n",
            " [-18 -51 -48]]\n",
            "\n",
            "------------------------------\n",
            "\n",
            "Result using np.dot():\n",
            "[[  6  29 -20]\n",
            " [ 12  52  38]\n",
            " [-18 -51 -48]]\n",
            "\n",
            "------------------------------\n",
            "\n",
            "Result using the @ operator:\n",
            "[[  6  29 -20]\n",
            " [ 12  52  38]\n",
            " [-18 -51 -48]]\n"
          ]
        }
      ],
      "source": [
        "import numpy as np\n",
        "\n",
        "# Defining the matrices as NumPy arrays\n",
        "a_ndarray = np.array([[-1, 2, 3], [4, -5, 6], [7, 8, -9]])\n",
        "b_ndarray = np.array([[0, 2, 1], [0, 2, -8], [2, 9, -1]])\n",
        "\n",
        "# Calculating the matrix product using np.matmul()\n",
        "c_matmul = np.matmul(a_ndarray, b_ndarray)\n",
        "print(\"Result using np.matmul():\")\n",
        "print(c_matmul)\n",
        "print(\"\\n\" + \"-\"*30 + \"\\n\")\n",
        "\n",
        "# Calculating the matrix product using np.dot()\n",
        "c_dot = np.dot(a_ndarray, b_ndarray)\n",
        "print(\"Result using np.dot():\")\n",
        "print(c_dot)\n",
        "print(\"\\n\" + \"-\"*30 + \"\\n\")\n",
        "\n",
        "# Calculating the matrix product using the @ operator\n",
        "c_at_operator = a_ndarray @ b_ndarray\n",
        "print(\"Result using the @ operator:\")\n",
        "print(c_at_operator)"
      ]
    },
    {
      "cell_type": "markdown",
      "source": [
        "**Scratch Implementation of matrix product**"
      ],
      "metadata": {
        "id": "wez0EsIo6nKW"
      }
    },
    {
      "cell_type": "code",
      "source": [
        "# Defining the matrices\n",
        "a_ndarray = np.array([[-1, 2, 3], [4, -5, 6], [7, 8, -9]])\n",
        "b_ndarray = np.array([[0, 2, 1], [0, 2, -8], [2, 9, -1]])\n",
        "\n",
        "# Getting the dimensions of the matrices\n",
        "rows_a, cols_a = a_ndarray.shape\n",
        "rows_b, cols_b = b_ndarray.shape\n",
        "\n",
        "# Initializing a new matrix with zeros to store the result\n",
        "result_ndarray = np.zeros((rows_a, cols_b))\n",
        "\n",
        "for i in range(rows_a):\n",
        "\n",
        "    for j in range(cols_b):\n",
        "\n",
        "        element_sum = 0\n",
        "        for k in range(cols_a):\n",
        "            element_sum += a_ndarray[i, k] * b_ndarray[k, j]\n",
        "\n",
        "        result_ndarray[i, j] = element_sum\n",
        "\n",
        "print(\"Result from scratch implementation:\")\n",
        "print(result_ndarray)"
      ],
      "metadata": {
        "colab": {
          "base_uri": "https://localhost:8080/"
        },
        "id": "T6olf3rH6zjp",
        "outputId": "e3d2a4ec-886d-4f25-d617-8154db2a3d70"
      },
      "execution_count": 2,
      "outputs": [
        {
          "output_type": "stream",
          "name": "stdout",
          "text": [
            "Result from scratch implementation:\n",
            "[[  6.  29. -20.]\n",
            " [ 12.  52.  38.]\n",
            " [-18. -51. -48.]]\n"
          ]
        }
      ]
    },
    {
      "cell_type": "markdown",
      "source": [
        "**Implementation of Calculation of a certain element**"
      ],
      "metadata": {
        "id": "rdWwiOcz9sBX"
      }
    },
    {
      "cell_type": "code",
      "source": [
        "import numpy as np\n",
        "\n",
        "# Defining matrices A and B\n",
        "a_ndarray = np.array([[-1, 2, 3], [4, -5, 6], [7, 8, -9]])\n",
        "b_ndarray = np.array([[0, 2, 1], [0, 2, -8], [2, 9, -1]])\n",
        "\n",
        "# Calculating element (0, 0) manually\n",
        "result_00 = 0\n",
        "for k in range(3):  # Since both matrices are 3x3\n",
        "    result_00 += a_ndarray[0][k] * b_ndarray[k][0]\n",
        "\n",
        "print(\"Element (0, 0) of the matrix product is:\", result_00)"
      ],
      "metadata": {
        "colab": {
          "base_uri": "https://localhost:8080/"
        },
        "id": "URP8GLY392NA",
        "outputId": "a8bb6a17-eb59-4cd7-f719-d566a8735223"
      },
      "execution_count": 3,
      "outputs": [
        {
          "output_type": "stream",
          "name": "stdout",
          "text": [
            "Element (0, 0) of the matrix product is: 6\n"
          ]
        }
      ]
    },
    {
      "cell_type": "markdown",
      "source": [
        "**Creating a function that performs matrix multiplication**"
      ],
      "metadata": {
        "id": "2g1Hn7xn_I2S"
      }
    },
    {
      "cell_type": "code",
      "source": [
        "import numpy as np\n",
        "\n",
        "def matrix_product_scratch(A, B):\n",
        "    # Checking if matrix multiplication is defined\n",
        "    if A.shape[1] != B.shape[0]:\n",
        "        raise ValueError(\"Matrix product is undefined: columns of A must equal rows of B.\")\n",
        "\n",
        "    # Getting dimensions\n",
        "    rows_A, cols_A = A.shape\n",
        "    rows_B, cols_B = B.shape\n",
        "\n",
        "    # Initializing result matrix with zeros\n",
        "    result = np.zeros((rows_A, cols_B), dtype=int)\n",
        "\n",
        "    # Performing manual matrix multiplication\n",
        "    for i in range(rows_A):\n",
        "        for j in range(cols_B):\n",
        "            for k in range(cols_A):  # or rows_B\n",
        "                result[i][j] += A[i][k] * B[k][j]\n",
        "\n",
        "    return result\n",
        "\n",
        "# Defining matrices A and B\n",
        "a_ndarray = np.array([[-1, 2, 3], [4, -5, 6], [7, 8, -9]])\n",
        "b_ndarray = np.array([[0, 2, 1], [0, 2, -8], [2, 9, -1]])\n",
        "\n",
        "product_result = matrix_product_scratch(a_ndarray, b_ndarray)\n",
        "print(\"Matrix product (scratch):\\n\", product_result)"
      ],
      "metadata": {
        "colab": {
          "base_uri": "https://localhost:8080/"
        },
        "id": "LP5RixnH_Una",
        "outputId": "dc7050bb-2da6-4f17-e984-639c2e663bcb"
      },
      "execution_count": 7,
      "outputs": [
        {
          "output_type": "stream",
          "name": "stdout",
          "text": [
            "Matrix product (scratch):\n",
            " [[  6  29 -20]\n",
            " [ 12  52  38]\n",
            " [-18 -51 -48]]\n"
          ]
        }
      ]
    },
    {
      "cell_type": "markdown",
      "source": [
        "**Undefined matrix multiplication**"
      ],
      "metadata": {
        "id": "Z0F4cAiVBpMf"
      }
    },
    {
      "cell_type": "code",
      "source": [
        "#Undefined matrices\n",
        "d_ndarray = np.array([[-1, 2, 3], [4, -5, 6]])  # Shape: (2, 3)\n",
        "e_ndarray = np.array([[-9, 8, 7], [6, -5, 4]])  # Shape: (2, 3)\n",
        "\n",
        "try:\n",
        "    result = matrix_product_scratch(d_ndarray, e_ndarray)\n",
        "except ValueError as e:\n",
        "    print(\"Error:\", e)"
      ],
      "metadata": {
        "colab": {
          "base_uri": "https://localhost:8080/"
        },
        "id": "kKXAMNWXBub5",
        "outputId": "b09bfb0b-ecf1-4db0-cab9-c38a7038cc66"
      },
      "execution_count": 9,
      "outputs": [
        {
          "output_type": "stream",
          "name": "stdout",
          "text": [
            "Error: Matrix product is undefined: columns of A must equal rows of B.\n"
          ]
        }
      ]
    },
    {
      "cell_type": "markdown",
      "source": [
        "**Judging the input whose calculation is not defined**"
      ],
      "metadata": {
        "id": "tHjuwA2vDuJ2"
      }
    },
    {
      "cell_type": "code",
      "source": [
        "def matrix_product_scratch(A, B):\n",
        "    # Checking if matrix multiplication is defined\n",
        "    if A.shape[1] != B.shape[0]:\n",
        "        print(f\"Matrix product is undefined:\")\n",
        "        print(f\"Matrix A shape: {A.shape} (columns: {A.shape[1]})\")\n",
        "        print(f\"Matrix B shape: {B.shape} (rows: {B.shape[0]})\")\n",
        "        print(\"Matrix multiplication requires columns of A to equal rows of B.\")\n",
        "        return None\n",
        "\n",
        "    # Initializing result matrix\n",
        "    result = np.zeros((A.shape[0], B.shape[1]), dtype=int)\n",
        "\n",
        "    # Manual matrix multiplication\n",
        "    for i in range(A.shape[0]):\n",
        "        for j in range(B.shape[1]):\n",
        "            for k in range(A.shape[1]):\n",
        "                result[i][j] += A[i][k] * B[k][j]\n",
        "\n",
        "    return result\n",
        "\n",
        "d_ndarray = np.array([[-1, 2, 3], [4, -5, 6]])  # Shape: (2, 3)\n",
        "e_ndarray = np.array([[-9, 8, 7], [6, -5, 4]])  # Shape: (2, 3)\n",
        "\n",
        "result = matrix_product_scratch(d_ndarray, e_ndarray)"
      ],
      "metadata": {
        "colab": {
          "base_uri": "https://localhost:8080/"
        },
        "id": "ETZA2mOUD-AL",
        "outputId": "6a95dfb8-8255-4c00-a17e-b91923f9274f"
      },
      "execution_count": 10,
      "outputs": [
        {
          "output_type": "stream",
          "name": "stdout",
          "text": [
            "Matrix product is undefined:\n",
            "Matrix A shape: (2, 3) (columns: 3)\n",
            "Matrix B shape: (2, 3) (rows: 2)\n",
            "Matrix multiplication requires columns of A to equal rows of B.\n"
          ]
        }
      ]
    },
    {
      "cell_type": "markdown",
      "source": [
        "**Transposition to enable multiplication**"
      ],
      "metadata": {
        "id": "0-vsVHrhEayo"
      }
    },
    {
      "cell_type": "code",
      "source": [
        "d_ndarray = np.array([[-1, 2, 3], [4, -5, 6]])\n",
        "e_ndarray = np.array([[-9, 8, 7], [6, -5, 4]])\n",
        "\n",
        "# Transposing matrix E using the .T attribute\n",
        "e_transposed = e_ndarray.T\n",
        "print(\"Original matrix E:\")\n",
        "print(e_ndarray)\n",
        "print(\"\\nTransposed matrix E^T:\")\n",
        "print(e_transposed)\n",
        "\n",
        "# Using the @ operator to find the matrix product of D and the transposed E\n",
        "result_product = d_ndarray @ e_transposed\n",
        "\n",
        "print(\"\\nResult of D @ E.T:\")\n",
        "print(result_product)"
      ],
      "metadata": {
        "colab": {
          "base_uri": "https://localhost:8080/"
        },
        "id": "zVJPlivZEhak",
        "outputId": "9a4ab33f-8f5d-4f16-cddf-35856d74fca2"
      },
      "execution_count": 12,
      "outputs": [
        {
          "output_type": "stream",
          "name": "stdout",
          "text": [
            "Original matrix E:\n",
            "[[-9  8  7]\n",
            " [ 6 -5  4]]\n",
            "\n",
            "Transposed matrix E^T:\n",
            "[[-9  6]\n",
            " [ 8 -5]\n",
            " [ 7  4]]\n",
            "\n",
            "Result of D @ E.T:\n",
            "[[ 46  -4]\n",
            " [-34  73]]\n"
          ]
        }
      ]
    }
  ]
}