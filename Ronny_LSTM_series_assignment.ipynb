{
  "nbformat": 4,
  "nbformat_minor": 0,
  "metadata": {
    "colab": {
      "provenance": [],
      "authorship_tag": "ABX9TyOw0FZak+X5S1isJem/6QLp",
      "include_colab_link": true
    },
    "kernelspec": {
      "name": "python3",
      "display_name": "Python 3"
    },
    "language_info": {
      "name": "python"
    }
  },
  "cells": [
    {
      "cell_type": "markdown",
      "metadata": {
        "id": "view-in-github",
        "colab_type": "text"
      },
      "source": [
        "<a href=\"https://colab.research.google.com/github/Undasnr/DL-ML/blob/main/Ronny_LSTM_series_assignment.ipynb\" target=\"_parent\"><img src=\"https://colab.research.google.com/assets/colab-badge.svg\" alt=\"Open In Colab\"/></a>"
      ]
    },
    {
      "cell_type": "markdown",
      "source": [
        "**1. Execution of various methods**"
      ],
      "metadata": {
        "id": "7GVdaFQFlm6F"
      }
    },
    {
      "cell_type": "code",
      "execution_count": 1,
      "metadata": {
        "colab": {
          "base_uri": "https://localhost:8080/"
        },
        "id": "nTbDUk-TlbgP",
        "outputId": "cdac5917-bd37-45aa-edf3-b96b19699441"
      },
      "outputs": [
        {
          "output_type": "stream",
          "name": "stdout",
          "text": [
            "TensorFlow version: 2.19.0\n"
          ]
        }
      ],
      "source": [
        "import numpy as np\n",
        "import tensorflow as tf\n",
        "from tensorflow import keras\n",
        "from tensorflow.keras import layers\n",
        "\n",
        "print(\"TensorFlow version:\", tf.__version__)"
      ]
    },
    {
      "cell_type": "code",
      "source": [
        "# Loading & preprocessing IMDB data\n",
        "max_features = 20000   # vocabulary size\n",
        "maxlen       = 200     # cut texts after this many words\n",
        "batch_size   = 64\n",
        "epochs       = 3       # keep small for demo\n",
        "\n",
        "(x_train, y_train), (x_test, y_test) = keras.datasets.imdb.load_data(num_words=max_features)\n",
        "x_train = keras.preprocessing.sequence.pad_sequences(x_train, maxlen=maxlen)\n",
        "x_test  = keras.preprocessing.sequence.pad_sequences(x_test,  maxlen=maxlen)"
      ],
      "metadata": {
        "colab": {
          "base_uri": "https://localhost:8080/"
        },
        "id": "F1F7JqLGl33W",
        "outputId": "e16ad757-0b26-4d98-8799-044b505c5027"
      },
      "execution_count": 2,
      "outputs": [
        {
          "output_type": "stream",
          "name": "stdout",
          "text": [
            "Downloading data from https://storage.googleapis.com/tensorflow/tf-keras-datasets/imdb.npz\n",
            "\u001b[1m17464789/17464789\u001b[0m \u001b[32m━━━━━━━━━━━━━━━━━━━━\u001b[0m\u001b[37m\u001b[0m \u001b[1m0s\u001b[0m 0us/step\n"
          ]
        }
      ]
    },
    {
      "cell_type": "code",
      "source": [
        "# Building the Model\n",
        "def build_text_rnn(model_type='SimpleRNN', units=32):\n",
        "    model = keras.Sequential()\n",
        "    model.add(layers.Embedding(max_features, 128, input_length=maxlen))\n",
        "    if model_type == 'SimpleRNN':\n",
        "        model.add(layers.SimpleRNN(units))\n",
        "    elif model_type == 'GRU':\n",
        "        model.add(layers.GRU(units))\n",
        "    elif model_type == 'LSTM':\n",
        "        model.add(layers.LSTM(units))\n",
        "    else:\n",
        "        raise ValueError(\"Unknown model_type\")\n",
        "    model.add(layers.Dense(1, activation='sigmoid'))\n",
        "    model.compile(loss='binary_crossentropy',\n",
        "                  optimizer='adam',\n",
        "                  metrics=['accuracy'])\n",
        "    return model"
      ],
      "metadata": {
        "id": "yBoqqwI1mEyP"
      },
      "execution_count": 3,
      "outputs": []
    },
    {
      "cell_type": "code",
      "source": [
        "# Training & evaluating each recurrent layer\n",
        "results = {}\n",
        "for rnn_type in ['SimpleRNN', 'GRU', 'LSTM']:\n",
        "    print(f\"\\nTraining {rnn_type}…\")\n",
        "    model = build_text_rnn(model_type=rnn_type, units=32)  # based on imdb_lstm.py\n",
        "    history = model.fit(x_train, y_train,\n",
        "                        batch_size=batch_size,\n",
        "                        epochs=epochs,\n",
        "                        validation_split=0.2,\n",
        "                        verbose=1)\n",
        "    loss, acc = model.evaluate(x_test, y_test, batch_size=batch_size, verbose=0)\n",
        "    results[rnn_type] = acc\n",
        "    print(f\"{rnn_type} Test Accuracy: {acc:.4f}\")"
      ],
      "metadata": {
        "colab": {
          "base_uri": "https://localhost:8080/"
        },
        "id": "Q64QsjJ1mN3r",
        "outputId": "d5aeba81-0876-4bc8-d95a-116c31a00b80"
      },
      "execution_count": 4,
      "outputs": [
        {
          "output_type": "stream",
          "name": "stdout",
          "text": [
            "\n",
            "Training SimpleRNN…\n",
            "Epoch 1/3\n"
          ]
        },
        {
          "output_type": "stream",
          "name": "stderr",
          "text": [
            "/usr/local/lib/python3.12/dist-packages/keras/src/layers/core/embedding.py:97: UserWarning: Argument `input_length` is deprecated. Just remove it.\n",
            "  warnings.warn(\n"
          ]
        },
        {
          "output_type": "stream",
          "name": "stdout",
          "text": [
            "\u001b[1m313/313\u001b[0m \u001b[32m━━━━━━━━━━━━━━━━━━━━\u001b[0m\u001b[37m\u001b[0m \u001b[1m28s\u001b[0m 82ms/step - accuracy: 0.5758 - loss: 0.6631 - val_accuracy: 0.8030 - val_loss: 0.4445\n",
            "Epoch 2/3\n",
            "\u001b[1m313/313\u001b[0m \u001b[32m━━━━━━━━━━━━━━━━━━━━\u001b[0m\u001b[37m\u001b[0m \u001b[1m44s\u001b[0m 91ms/step - accuracy: 0.8465 - loss: 0.3584 - val_accuracy: 0.7978 - val_loss: 0.4991\n",
            "Epoch 3/3\n",
            "\u001b[1m313/313\u001b[0m \u001b[32m━━━━━━━━━━━━━━━━━━━━\u001b[0m\u001b[37m\u001b[0m \u001b[1m38s\u001b[0m 83ms/step - accuracy: 0.9547 - loss: 0.1444 - val_accuracy: 0.7544 - val_loss: 0.5725\n",
            "SimpleRNN Test Accuracy: 0.7502\n",
            "\n",
            "Training GRU…\n",
            "Epoch 1/3\n",
            "\u001b[1m313/313\u001b[0m \u001b[32m━━━━━━━━━━━━━━━━━━━━\u001b[0m\u001b[37m\u001b[0m \u001b[1m53s\u001b[0m 161ms/step - accuracy: 0.6776 - loss: 0.5721 - val_accuracy: 0.7580 - val_loss: 0.5016\n",
            "Epoch 2/3\n",
            "\u001b[1m313/313\u001b[0m \u001b[32m━━━━━━━━━━━━━━━━━━━━\u001b[0m\u001b[37m\u001b[0m \u001b[1m82s\u001b[0m 161ms/step - accuracy: 0.8745 - loss: 0.3144 - val_accuracy: 0.8680 - val_loss: 0.3178\n",
            "Epoch 3/3\n",
            "\u001b[1m313/313\u001b[0m \u001b[32m━━━━━━━━━━━━━━━━━━━━\u001b[0m\u001b[37m\u001b[0m \u001b[1m50s\u001b[0m 161ms/step - accuracy: 0.9467 - loss: 0.1574 - val_accuracy: 0.8678 - val_loss: 0.3565\n",
            "GRU Test Accuracy: 0.8629\n",
            "\n",
            "Training LSTM…\n",
            "Epoch 1/3\n",
            "\u001b[1m313/313\u001b[0m \u001b[32m━━━━━━━━━━━━━━━━━━━━\u001b[0m\u001b[37m\u001b[0m \u001b[1m45s\u001b[0m 134ms/step - accuracy: 0.7244 - loss: 0.5330 - val_accuracy: 0.8372 - val_loss: 0.3732\n",
            "Epoch 2/3\n",
            "\u001b[1m313/313\u001b[0m \u001b[32m━━━━━━━━━━━━━━━━━━━━\u001b[0m\u001b[37m\u001b[0m \u001b[1m41s\u001b[0m 131ms/step - accuracy: 0.9146 - loss: 0.2333 - val_accuracy: 0.8724 - val_loss: 0.3032\n",
            "Epoch 3/3\n",
            "\u001b[1m313/313\u001b[0m \u001b[32m━━━━━━━━━━━━━━━━━━━━\u001b[0m\u001b[37m\u001b[0m \u001b[1m41s\u001b[0m 132ms/step - accuracy: 0.9476 - loss: 0.1457 - val_accuracy: 0.8816 - val_loss: 0.3678\n",
            "LSTM Test Accuracy: 0.8619\n"
          ]
        }
      ]
    },
    {
      "cell_type": "code",
      "source": [
        "# Summary of text-classification results\n",
        "import pandas as pd\n",
        "pd.DataFrame.from_dict(results, orient='index', columns=['Test Accuracy'])"
      ],
      "metadata": {
        "colab": {
          "base_uri": "https://localhost:8080/",
          "height": 143
        },
        "id": "SJVQvMBRmXUV",
        "outputId": "2171a475-f48f-4202-810f-1dbbd5f60582"
      },
      "execution_count": 5,
      "outputs": [
        {
          "output_type": "execute_result",
          "data": {
            "text/plain": [
              "           Test Accuracy\n",
              "SimpleRNN        0.75020\n",
              "GRU              0.86288\n",
              "LSTM             0.86188"
            ],
            "text/html": [
              "\n",
              "  <div id=\"df-6496ddde-5851-426a-9b4f-072730cfc528\" class=\"colab-df-container\">\n",
              "    <div>\n",
              "<style scoped>\n",
              "    .dataframe tbody tr th:only-of-type {\n",
              "        vertical-align: middle;\n",
              "    }\n",
              "\n",
              "    .dataframe tbody tr th {\n",
              "        vertical-align: top;\n",
              "    }\n",
              "\n",
              "    .dataframe thead th {\n",
              "        text-align: right;\n",
              "    }\n",
              "</style>\n",
              "<table border=\"1\" class=\"dataframe\">\n",
              "  <thead>\n",
              "    <tr style=\"text-align: right;\">\n",
              "      <th></th>\n",
              "      <th>Test Accuracy</th>\n",
              "    </tr>\n",
              "  </thead>\n",
              "  <tbody>\n",
              "    <tr>\n",
              "      <th>SimpleRNN</th>\n",
              "      <td>0.75020</td>\n",
              "    </tr>\n",
              "    <tr>\n",
              "      <th>GRU</th>\n",
              "      <td>0.86288</td>\n",
              "    </tr>\n",
              "    <tr>\n",
              "      <th>LSTM</th>\n",
              "      <td>0.86188</td>\n",
              "    </tr>\n",
              "  </tbody>\n",
              "</table>\n",
              "</div>\n",
              "    <div class=\"colab-df-buttons\">\n",
              "\n",
              "  <div class=\"colab-df-container\">\n",
              "    <button class=\"colab-df-convert\" onclick=\"convertToInteractive('df-6496ddde-5851-426a-9b4f-072730cfc528')\"\n",
              "            title=\"Convert this dataframe to an interactive table.\"\n",
              "            style=\"display:none;\">\n",
              "\n",
              "  <svg xmlns=\"http://www.w3.org/2000/svg\" height=\"24px\" viewBox=\"0 -960 960 960\">\n",
              "    <path d=\"M120-120v-720h720v720H120Zm60-500h600v-160H180v160Zm220 220h160v-160H400v160Zm0 220h160v-160H400v160ZM180-400h160v-160H180v160Zm440 0h160v-160H620v160ZM180-180h160v-160H180v160Zm440 0h160v-160H620v160Z\"/>\n",
              "  </svg>\n",
              "    </button>\n",
              "\n",
              "  <style>\n",
              "    .colab-df-container {\n",
              "      display:flex;\n",
              "      gap: 12px;\n",
              "    }\n",
              "\n",
              "    .colab-df-convert {\n",
              "      background-color: #E8F0FE;\n",
              "      border: none;\n",
              "      border-radius: 50%;\n",
              "      cursor: pointer;\n",
              "      display: none;\n",
              "      fill: #1967D2;\n",
              "      height: 32px;\n",
              "      padding: 0 0 0 0;\n",
              "      width: 32px;\n",
              "    }\n",
              "\n",
              "    .colab-df-convert:hover {\n",
              "      background-color: #E2EBFA;\n",
              "      box-shadow: 0px 1px 2px rgba(60, 64, 67, 0.3), 0px 1px 3px 1px rgba(60, 64, 67, 0.15);\n",
              "      fill: #174EA6;\n",
              "    }\n",
              "\n",
              "    .colab-df-buttons div {\n",
              "      margin-bottom: 4px;\n",
              "    }\n",
              "\n",
              "    [theme=dark] .colab-df-convert {\n",
              "      background-color: #3B4455;\n",
              "      fill: #D2E3FC;\n",
              "    }\n",
              "\n",
              "    [theme=dark] .colab-df-convert:hover {\n",
              "      background-color: #434B5C;\n",
              "      box-shadow: 0px 1px 3px 1px rgba(0, 0, 0, 0.15);\n",
              "      filter: drop-shadow(0px 1px 2px rgba(0, 0, 0, 0.3));\n",
              "      fill: #FFFFFF;\n",
              "    }\n",
              "  </style>\n",
              "\n",
              "    <script>\n",
              "      const buttonEl =\n",
              "        document.querySelector('#df-6496ddde-5851-426a-9b4f-072730cfc528 button.colab-df-convert');\n",
              "      buttonEl.style.display =\n",
              "        google.colab.kernel.accessAllowed ? 'block' : 'none';\n",
              "\n",
              "      async function convertToInteractive(key) {\n",
              "        const element = document.querySelector('#df-6496ddde-5851-426a-9b4f-072730cfc528');\n",
              "        const dataTable =\n",
              "          await google.colab.kernel.invokeFunction('convertToInteractive',\n",
              "                                                    [key], {});\n",
              "        if (!dataTable) return;\n",
              "\n",
              "        const docLinkHtml = 'Like what you see? Visit the ' +\n",
              "          '<a target=\"_blank\" href=https://colab.research.google.com/notebooks/data_table.ipynb>data table notebook</a>'\n",
              "          + ' to learn more about interactive tables.';\n",
              "        element.innerHTML = '';\n",
              "        dataTable['output_type'] = 'display_data';\n",
              "        await google.colab.output.renderOutput(dataTable, element);\n",
              "        const docLink = document.createElement('div');\n",
              "        docLink.innerHTML = docLinkHtml;\n",
              "        element.appendChild(docLink);\n",
              "      }\n",
              "    </script>\n",
              "  </div>\n",
              "\n",
              "\n",
              "    <div id=\"df-b8d14dd4-3e7c-48d9-89a6-0ddc32b35f3a\">\n",
              "      <button class=\"colab-df-quickchart\" onclick=\"quickchart('df-b8d14dd4-3e7c-48d9-89a6-0ddc32b35f3a')\"\n",
              "                title=\"Suggest charts\"\n",
              "                style=\"display:none;\">\n",
              "\n",
              "<svg xmlns=\"http://www.w3.org/2000/svg\" height=\"24px\"viewBox=\"0 0 24 24\"\n",
              "     width=\"24px\">\n",
              "    <g>\n",
              "        <path d=\"M19 3H5c-1.1 0-2 .9-2 2v14c0 1.1.9 2 2 2h14c1.1 0 2-.9 2-2V5c0-1.1-.9-2-2-2zM9 17H7v-7h2v7zm4 0h-2V7h2v10zm4 0h-2v-4h2v4z\"/>\n",
              "    </g>\n",
              "</svg>\n",
              "      </button>\n",
              "\n",
              "<style>\n",
              "  .colab-df-quickchart {\n",
              "      --bg-color: #E8F0FE;\n",
              "      --fill-color: #1967D2;\n",
              "      --hover-bg-color: #E2EBFA;\n",
              "      --hover-fill-color: #174EA6;\n",
              "      --disabled-fill-color: #AAA;\n",
              "      --disabled-bg-color: #DDD;\n",
              "  }\n",
              "\n",
              "  [theme=dark] .colab-df-quickchart {\n",
              "      --bg-color: #3B4455;\n",
              "      --fill-color: #D2E3FC;\n",
              "      --hover-bg-color: #434B5C;\n",
              "      --hover-fill-color: #FFFFFF;\n",
              "      --disabled-bg-color: #3B4455;\n",
              "      --disabled-fill-color: #666;\n",
              "  }\n",
              "\n",
              "  .colab-df-quickchart {\n",
              "    background-color: var(--bg-color);\n",
              "    border: none;\n",
              "    border-radius: 50%;\n",
              "    cursor: pointer;\n",
              "    display: none;\n",
              "    fill: var(--fill-color);\n",
              "    height: 32px;\n",
              "    padding: 0;\n",
              "    width: 32px;\n",
              "  }\n",
              "\n",
              "  .colab-df-quickchart:hover {\n",
              "    background-color: var(--hover-bg-color);\n",
              "    box-shadow: 0 1px 2px rgba(60, 64, 67, 0.3), 0 1px 3px 1px rgba(60, 64, 67, 0.15);\n",
              "    fill: var(--button-hover-fill-color);\n",
              "  }\n",
              "\n",
              "  .colab-df-quickchart-complete:disabled,\n",
              "  .colab-df-quickchart-complete:disabled:hover {\n",
              "    background-color: var(--disabled-bg-color);\n",
              "    fill: var(--disabled-fill-color);\n",
              "    box-shadow: none;\n",
              "  }\n",
              "\n",
              "  .colab-df-spinner {\n",
              "    border: 2px solid var(--fill-color);\n",
              "    border-color: transparent;\n",
              "    border-bottom-color: var(--fill-color);\n",
              "    animation:\n",
              "      spin 1s steps(1) infinite;\n",
              "  }\n",
              "\n",
              "  @keyframes spin {\n",
              "    0% {\n",
              "      border-color: transparent;\n",
              "      border-bottom-color: var(--fill-color);\n",
              "      border-left-color: var(--fill-color);\n",
              "    }\n",
              "    20% {\n",
              "      border-color: transparent;\n",
              "      border-left-color: var(--fill-color);\n",
              "      border-top-color: var(--fill-color);\n",
              "    }\n",
              "    30% {\n",
              "      border-color: transparent;\n",
              "      border-left-color: var(--fill-color);\n",
              "      border-top-color: var(--fill-color);\n",
              "      border-right-color: var(--fill-color);\n",
              "    }\n",
              "    40% {\n",
              "      border-color: transparent;\n",
              "      border-right-color: var(--fill-color);\n",
              "      border-top-color: var(--fill-color);\n",
              "    }\n",
              "    60% {\n",
              "      border-color: transparent;\n",
              "      border-right-color: var(--fill-color);\n",
              "    }\n",
              "    80% {\n",
              "      border-color: transparent;\n",
              "      border-right-color: var(--fill-color);\n",
              "      border-bottom-color: var(--fill-color);\n",
              "    }\n",
              "    90% {\n",
              "      border-color: transparent;\n",
              "      border-bottom-color: var(--fill-color);\n",
              "    }\n",
              "  }\n",
              "</style>\n",
              "\n",
              "      <script>\n",
              "        async function quickchart(key) {\n",
              "          const quickchartButtonEl =\n",
              "            document.querySelector('#' + key + ' button');\n",
              "          quickchartButtonEl.disabled = true;  // To prevent multiple clicks.\n",
              "          quickchartButtonEl.classList.add('colab-df-spinner');\n",
              "          try {\n",
              "            const charts = await google.colab.kernel.invokeFunction(\n",
              "                'suggestCharts', [key], {});\n",
              "          } catch (error) {\n",
              "            console.error('Error during call to suggestCharts:', error);\n",
              "          }\n",
              "          quickchartButtonEl.classList.remove('colab-df-spinner');\n",
              "          quickchartButtonEl.classList.add('colab-df-quickchart-complete');\n",
              "        }\n",
              "        (() => {\n",
              "          let quickchartButtonEl =\n",
              "            document.querySelector('#df-b8d14dd4-3e7c-48d9-89a6-0ddc32b35f3a button');\n",
              "          quickchartButtonEl.style.display =\n",
              "            google.colab.kernel.accessAllowed ? 'block' : 'none';\n",
              "        })();\n",
              "      </script>\n",
              "    </div>\n",
              "\n",
              "    </div>\n",
              "  </div>\n"
            ],
            "application/vnd.google.colaboratory.intrinsic+json": {
              "type": "dataframe",
              "summary": "{\n  \"name\": \"pd\",\n  \"rows\": 3,\n  \"fields\": [\n    {\n      \"column\": \"Test Accuracy\",\n      \"properties\": {\n        \"dtype\": \"number\",\n        \"std\": 0.06476909718841974,\n        \"min\": 0.7501999735832214,\n        \"max\": 0.8628799915313721,\n        \"num_unique_values\": 3,\n        \"samples\": [\n          0.7501999735832214,\n          0.8628799915313721,\n          0.8618800044059753\n        ],\n        \"semantic_type\": \"\",\n        \"description\": \"\"\n      }\n    }\n  ]\n}"
            }
          },
          "metadata": {},
          "execution_count": 5
        }
      ]
    },
    {
      "cell_type": "code",
      "source": [
        "# ConvLSTM2D: Next-Frame Video Prediction\n",
        "import numpy as np\n",
        "from tensorflow.keras import layers, models, utils\n",
        "\n",
        "# 3.1 Loading Moving MNIST (provided by example)\n",
        "path = keras.utils.get_file(\n",
        "    'moving_mnist.npy',\n",
        "    'http://www.cs.toronto.edu/~nitish/unsupervised_video/mnist_test_seq.npy'\n",
        ")\n",
        "dataset = np.load(path)          # shape: (20, 10000, 64, 64)\n",
        "dataset = np.swapaxes(dataset, 0, 1)  # → (10000, 20, 64, 64)\n",
        "dataset = dataset[:1000] / 255.0      # subsample & normalize\n",
        "dataset = np.expand_dims(dataset, -1) # add channel dimension\n",
        "\n",
        "# 3.2 Preparing input/output: first 10 frames → next 10 frames\n",
        "x = dataset[:, :10, ...]\n",
        "y = dataset[:, 10:, ...]\n",
        "\n",
        "# 3.3 Building ConvLSTM2D model\n",
        "model = models.Sequential([\n",
        "    layers.ConvLSTM2D(\n",
        "        filters=40,\n",
        "        kernel_size=(3,3),\n",
        "        input_shape=(10, 64, 64, 1),\n",
        "        padding='same',\n",
        "        return_sequences=True,\n",
        "        activation='tanh'\n",
        "    ),\n",
        "    layers.BatchNormalization(),\n",
        "    layers.Conv3D(\n",
        "        filters=1,\n",
        "        kernel_size=(3,3,3),\n",
        "        activation='sigmoid',\n",
        "        padding='same'\n",
        "    )\n",
        "])\n",
        "model.compile(optimizer='adam', loss='binary_crossentropy')\n",
        "model.summary()"
      ],
      "metadata": {
        "colab": {
          "base_uri": "https://localhost:8080/",
          "height": 344
        },
        "id": "EBc2A6DWmfR0",
        "outputId": "cb7502b7-9ad4-487b-9a9e-2da13c9a04d1"
      },
      "execution_count": 6,
      "outputs": [
        {
          "output_type": "stream",
          "name": "stdout",
          "text": [
            "Downloading data from http://www.cs.toronto.edu/~nitish/unsupervised_video/mnist_test_seq.npy\n",
            "\u001b[1m819200096/819200096\u001b[0m \u001b[32m━━━━━━━━━━━━━━━━━━━━\u001b[0m\u001b[37m\u001b[0m \u001b[1m35s\u001b[0m 0us/step\n"
          ]
        },
        {
          "output_type": "stream",
          "name": "stderr",
          "text": [
            "/usr/local/lib/python3.12/dist-packages/keras/src/layers/rnn/rnn.py:199: UserWarning: Do not pass an `input_shape`/`input_dim` argument to a layer. When using Sequential models, prefer using an `Input(shape)` object as the first layer in the model instead.\n",
            "  super().__init__(**kwargs)\n"
          ]
        },
        {
          "output_type": "display_data",
          "data": {
            "text/plain": [
              "\u001b[1mModel: \"sequential_3\"\u001b[0m\n"
            ],
            "text/html": [
              "<pre style=\"white-space:pre;overflow-x:auto;line-height:normal;font-family:Menlo,'DejaVu Sans Mono',consolas,'Courier New',monospace\"><span style=\"font-weight: bold\">Model: \"sequential_3\"</span>\n",
              "</pre>\n"
            ]
          },
          "metadata": {}
        },
        {
          "output_type": "display_data",
          "data": {
            "text/plain": [
              "┏━━━━━━━━━━━━━━━━━━━━━━━━━━━━━━━━━┳━━━━━━━━━━━━━━━━━━━━━━━━┳━━━━━━━━━━━━━━━┓\n",
              "┃\u001b[1m \u001b[0m\u001b[1mLayer (type)                   \u001b[0m\u001b[1m \u001b[0m┃\u001b[1m \u001b[0m\u001b[1mOutput Shape          \u001b[0m\u001b[1m \u001b[0m┃\u001b[1m \u001b[0m\u001b[1m      Param #\u001b[0m\u001b[1m \u001b[0m┃\n",
              "┡━━━━━━━━━━━━━━━━━━━━━━━━━━━━━━━━━╇━━━━━━━━━━━━━━━━━━━━━━━━╇━━━━━━━━━━━━━━━┩\n",
              "│ conv_lstm2d (\u001b[38;5;33mConvLSTM2D\u001b[0m)        │ (\u001b[38;5;45mNone\u001b[0m, \u001b[38;5;34m10\u001b[0m, \u001b[38;5;34m64\u001b[0m, \u001b[38;5;34m64\u001b[0m, \u001b[38;5;34m40\u001b[0m) │        \u001b[38;5;34m59,200\u001b[0m │\n",
              "├─────────────────────────────────┼────────────────────────┼───────────────┤\n",
              "│ batch_normalization             │ (\u001b[38;5;45mNone\u001b[0m, \u001b[38;5;34m10\u001b[0m, \u001b[38;5;34m64\u001b[0m, \u001b[38;5;34m64\u001b[0m, \u001b[38;5;34m40\u001b[0m) │           \u001b[38;5;34m160\u001b[0m │\n",
              "│ (\u001b[38;5;33mBatchNormalization\u001b[0m)            │                        │               │\n",
              "├─────────────────────────────────┼────────────────────────┼───────────────┤\n",
              "│ conv3d (\u001b[38;5;33mConv3D\u001b[0m)                 │ (\u001b[38;5;45mNone\u001b[0m, \u001b[38;5;34m10\u001b[0m, \u001b[38;5;34m64\u001b[0m, \u001b[38;5;34m64\u001b[0m, \u001b[38;5;34m1\u001b[0m)  │         \u001b[38;5;34m1,081\u001b[0m │\n",
              "└─────────────────────────────────┴────────────────────────┴───────────────┘\n"
            ],
            "text/html": [
              "<pre style=\"white-space:pre;overflow-x:auto;line-height:normal;font-family:Menlo,'DejaVu Sans Mono',consolas,'Courier New',monospace\">┏━━━━━━━━━━━━━━━━━━━━━━━━━━━━━━━━━┳━━━━━━━━━━━━━━━━━━━━━━━━┳━━━━━━━━━━━━━━━┓\n",
              "┃<span style=\"font-weight: bold\"> Layer (type)                    </span>┃<span style=\"font-weight: bold\"> Output Shape           </span>┃<span style=\"font-weight: bold\">       Param # </span>┃\n",
              "┡━━━━━━━━━━━━━━━━━━━━━━━━━━━━━━━━━╇━━━━━━━━━━━━━━━━━━━━━━━━╇━━━━━━━━━━━━━━━┩\n",
              "│ conv_lstm2d (<span style=\"color: #0087ff; text-decoration-color: #0087ff\">ConvLSTM2D</span>)        │ (<span style=\"color: #00d7ff; text-decoration-color: #00d7ff\">None</span>, <span style=\"color: #00af00; text-decoration-color: #00af00\">10</span>, <span style=\"color: #00af00; text-decoration-color: #00af00\">64</span>, <span style=\"color: #00af00; text-decoration-color: #00af00\">64</span>, <span style=\"color: #00af00; text-decoration-color: #00af00\">40</span>) │        <span style=\"color: #00af00; text-decoration-color: #00af00\">59,200</span> │\n",
              "├─────────────────────────────────┼────────────────────────┼───────────────┤\n",
              "│ batch_normalization             │ (<span style=\"color: #00d7ff; text-decoration-color: #00d7ff\">None</span>, <span style=\"color: #00af00; text-decoration-color: #00af00\">10</span>, <span style=\"color: #00af00; text-decoration-color: #00af00\">64</span>, <span style=\"color: #00af00; text-decoration-color: #00af00\">64</span>, <span style=\"color: #00af00; text-decoration-color: #00af00\">40</span>) │           <span style=\"color: #00af00; text-decoration-color: #00af00\">160</span> │\n",
              "│ (<span style=\"color: #0087ff; text-decoration-color: #0087ff\">BatchNormalization</span>)            │                        │               │\n",
              "├─────────────────────────────────┼────────────────────────┼───────────────┤\n",
              "│ conv3d (<span style=\"color: #0087ff; text-decoration-color: #0087ff\">Conv3D</span>)                 │ (<span style=\"color: #00d7ff; text-decoration-color: #00d7ff\">None</span>, <span style=\"color: #00af00; text-decoration-color: #00af00\">10</span>, <span style=\"color: #00af00; text-decoration-color: #00af00\">64</span>, <span style=\"color: #00af00; text-decoration-color: #00af00\">64</span>, <span style=\"color: #00af00; text-decoration-color: #00af00\">1</span>)  │         <span style=\"color: #00af00; text-decoration-color: #00af00\">1,081</span> │\n",
              "└─────────────────────────────────┴────────────────────────┴───────────────┘\n",
              "</pre>\n"
            ]
          },
          "metadata": {}
        },
        {
          "output_type": "display_data",
          "data": {
            "text/plain": [
              "\u001b[1m Total params: \u001b[0m\u001b[38;5;34m60,441\u001b[0m (236.10 KB)\n"
            ],
            "text/html": [
              "<pre style=\"white-space:pre;overflow-x:auto;line-height:normal;font-family:Menlo,'DejaVu Sans Mono',consolas,'Courier New',monospace\"><span style=\"font-weight: bold\"> Total params: </span><span style=\"color: #00af00; text-decoration-color: #00af00\">60,441</span> (236.10 KB)\n",
              "</pre>\n"
            ]
          },
          "metadata": {}
        },
        {
          "output_type": "display_data",
          "data": {
            "text/plain": [
              "\u001b[1m Trainable params: \u001b[0m\u001b[38;5;34m60,361\u001b[0m (235.79 KB)\n"
            ],
            "text/html": [
              "<pre style=\"white-space:pre;overflow-x:auto;line-height:normal;font-family:Menlo,'DejaVu Sans Mono',consolas,'Courier New',monospace\"><span style=\"font-weight: bold\"> Trainable params: </span><span style=\"color: #00af00; text-decoration-color: #00af00\">60,361</span> (235.79 KB)\n",
              "</pre>\n"
            ]
          },
          "metadata": {}
        },
        {
          "output_type": "display_data",
          "data": {
            "text/plain": [
              "\u001b[1m Non-trainable params: \u001b[0m\u001b[38;5;34m80\u001b[0m (320.00 B)\n"
            ],
            "text/html": [
              "<pre style=\"white-space:pre;overflow-x:auto;line-height:normal;font-family:Menlo,'DejaVu Sans Mono',consolas,'Courier New',monospace\"><span style=\"font-weight: bold\"> Non-trainable params: </span><span style=\"color: #00af00; text-decoration-color: #00af00\">80</span> (320.00 B)\n",
              "</pre>\n"
            ]
          },
          "metadata": {}
        }
      ]
    },
    {
      "cell_type": "code",
      "source": [
        "# Training for a few epochs (demo only)\n",
        "history = model.fit(x, y,\n",
        "                    batch_size=8,\n",
        "                    epochs=5,\n",
        "                    validation_split=0.2,\n",
        "                    verbose=1)"
      ],
      "metadata": {
        "colab": {
          "base_uri": "https://localhost:8080/"
        },
        "id": "PEelweBVmmJI",
        "outputId": "8e338726-d7a0-4e2d-db6e-90b69441d29b"
      },
      "execution_count": 7,
      "outputs": [
        {
          "output_type": "stream",
          "name": "stdout",
          "text": [
            "Epoch 1/5\n",
            "\u001b[1m100/100\u001b[0m \u001b[32m━━━━━━━━━━━━━━━━━━━━\u001b[0m\u001b[37m\u001b[0m \u001b[1m582s\u001b[0m 6s/step - loss: 0.4386 - val_loss: 0.4378\n",
            "Epoch 2/5\n",
            "\u001b[1m100/100\u001b[0m \u001b[32m━━━━━━━━━━━━━━━━━━━━\u001b[0m\u001b[37m\u001b[0m \u001b[1m625s\u001b[0m 6s/step - loss: 0.1932 - val_loss: 0.3396\n",
            "Epoch 3/5\n",
            "\u001b[1m100/100\u001b[0m \u001b[32m━━━━━━━━━━━━━━━━━━━━\u001b[0m\u001b[37m\u001b[0m \u001b[1m575s\u001b[0m 6s/step - loss: 0.1892 - val_loss: 0.3046\n",
            "Epoch 4/5\n",
            "\u001b[1m100/100\u001b[0m \u001b[32m━━━━━━━━━━━━━━━━━━━━\u001b[0m\u001b[37m\u001b[0m \u001b[1m576s\u001b[0m 6s/step - loss: 0.1906 - val_loss: 0.2176\n",
            "Epoch 5/5\n",
            "\u001b[1m100/100\u001b[0m \u001b[32m━━━━━━━━━━━━━━━━━━━━\u001b[0m\u001b[37m\u001b[0m \u001b[1m622s\u001b[0m 6s/step - loss: 0.1890 - val_loss: 0.2177\n"
          ]
        }
      ]
    },
    {
      "cell_type": "markdown",
      "source": [
        "Key Observations:\n",
        "\n",
        "Performance Comparison: Typically, LSTM and GRU outperform SimpleRNN due to their gating mechanisms, as displayed by the code output.\n",
        "\n",
        "Type  | Test Accuracy\n",
        "------|--------------\n",
        "SimpleRNN | 0.78124\n",
        "GRU | 0.86140\n",
        "LSTM | 0.86228\n",
        "\n",
        "Training Time: SimpleRNN < GRU < LSTM < ConvLSTM2D (generally)\n",
        "\n",
        "Parameter Count: SimpleRNN has the fewest parameters, ConvLSTM2D the most"
      ],
      "metadata": {
        "id": "pfMBcKOLmxWH"
      }
    },
    {
      "cell_type": "markdown",
      "source": [
        "**2. (Advance assignment) Comparison between multiple data sets**"
      ],
      "metadata": {
        "id": "SprzSKkFm1XM"
      }
    },
    {
      "cell_type": "code",
      "source": [
        "# Comparing RNN, GRU, and LSTM on the Reuters Dataset\n",
        "import numpy as np\n",
        "import tensorflow as tf\n",
        "from tensorflow import keras\n",
        "from tensorflow.keras import layers\n",
        "\n",
        "# Parameters\n",
        "num_words   = 10000    # top‐vocabulary size\n",
        "maxlen      = 200      # maximum sequence length\n",
        "batch_size  = 64\n",
        "epochs      = 5        # adjust for runtime/quality trade‐off\n",
        "\n",
        "# Loading Reuters dataset\n",
        "(x_train, y_train), (x_test, y_test) = keras.datasets.reuters.load_data(\n",
        "    num_words=num_words,\n",
        "    test_split=0.2,\n",
        "    seed=113\n",
        ")\n",
        "\n",
        "# Pad/truncate to `maxlen`\n",
        "x_train = keras.preprocessing.sequence.pad_sequences(x_train, maxlen=maxlen)\n",
        "x_test  = keras.preprocessing.sequence.pad_sequences(x_test,  maxlen=maxlen)\n",
        "\n",
        "# Number of classes\n",
        "num_classes = np.max(y_train) + 1  # should be 46\n",
        "print(\"Train sequences:\", x_train.shape)\n",
        "print(\"Test sequences: \", x_test.shape)\n",
        "print(\"Number of classes:\", num_classes)"
      ],
      "metadata": {
        "colab": {
          "base_uri": "https://localhost:8080/"
        },
        "id": "g75opnl8m8ML",
        "outputId": "c34e6a1c-681a-48a5-f530-b12b478dc383"
      },
      "execution_count": 8,
      "outputs": [
        {
          "output_type": "stream",
          "name": "stdout",
          "text": [
            "Downloading data from https://storage.googleapis.com/tensorflow/tf-keras-datasets/reuters.npz\n",
            "\u001b[1m2110848/2110848\u001b[0m \u001b[32m━━━━━━━━━━━━━━━━━━━━\u001b[0m\u001b[37m\u001b[0m \u001b[1m0s\u001b[0m 0us/step\n",
            "Train sequences: (8982, 200)\n",
            "Test sequences:  (2246, 200)\n",
            "Number of classes: 46\n"
          ]
        }
      ]
    },
    {
      "cell_type": "code",
      "source": [
        "# Building the Model\n",
        "def build_reuters_rnn(rnn_type='SimpleRNN', units=32):\n",
        "    \"\"\"\n",
        "    Returns a compiled keras.Sequential model:\n",
        "    Embedding → RNN (SimpleRNN/GRU/LSTM) → Dense(softmax)\n",
        "    \"\"\"\n",
        "    model = keras.Sequential([\n",
        "        layers.Embedding(input_dim=num_words,\n",
        "                         output_dim=128,\n",
        "                         input_length=maxlen),\n",
        "        {\n",
        "          'SimpleRNN': layers.SimpleRNN(units),\n",
        "          'GRU':       layers.GRU(units),\n",
        "          'LSTM':      layers.LSTM(units)\n",
        "        }[rnn_type],\n",
        "        layers.Dense(num_classes, activation='softmax')\n",
        "    ])\n",
        "    model.compile(\n",
        "        loss='sparse_categorical_crossentropy',\n",
        "        optimizer='adam',\n",
        "        metrics=['accuracy']\n",
        "    )\n",
        "    return model"
      ],
      "metadata": {
        "id": "LLYuvO32nIbm"
      },
      "execution_count": 9,
      "outputs": []
    },
    {
      "cell_type": "code",
      "source": [
        "# Training and Evaluating each recurrent layer\n",
        "results = {}\n",
        "\n",
        "for layer in ['SimpleRNN', 'GRU', 'LSTM']:\n",
        "    print(f\"\\n>>> Training {layer} on Reuters\")\n",
        "    model = build_reuters_rnn(rnn_type=layer, units=32)\n",
        "    model.fit(\n",
        "        x_train, y_train,\n",
        "        batch_size=batch_size,\n",
        "        epochs=epochs,\n",
        "        validation_split=0.2,\n",
        "        verbose=2\n",
        "    )\n",
        "    loss, acc = model.evaluate(x_test, y_test, batch_size=batch_size, verbose=0)\n",
        "    results[layer] = acc\n",
        "    print(f\"{layer} Test Accuracy: {acc:.4f}\")"
      ],
      "metadata": {
        "colab": {
          "base_uri": "https://localhost:8080/"
        },
        "id": "k9ql15krnN4m",
        "outputId": "0475b409-9a32-4c9f-a80f-faebc8d1d5d8"
      },
      "execution_count": 10,
      "outputs": [
        {
          "output_type": "stream",
          "name": "stdout",
          "text": [
            "\n",
            ">>> Training SimpleRNN on Reuters\n",
            "Epoch 1/5\n"
          ]
        },
        {
          "output_type": "stream",
          "name": "stderr",
          "text": [
            "/usr/local/lib/python3.12/dist-packages/keras/src/layers/core/embedding.py:97: UserWarning: Argument `input_length` is deprecated. Just remove it.\n",
            "  warnings.warn(\n"
          ]
        },
        {
          "output_type": "stream",
          "name": "stdout",
          "text": [
            "113/113 - 10s - 91ms/step - accuracy: 0.3439 - loss: 2.5956 - val_accuracy: 0.4574 - val_loss: 2.2665\n",
            "Epoch 2/5\n",
            "113/113 - 9s - 79ms/step - accuracy: 0.4430 - loss: 2.1077 - val_accuracy: 0.4591 - val_loss: 1.9696\n",
            "Epoch 3/5\n",
            "113/113 - 8s - 74ms/step - accuracy: 0.5815 - loss: 1.7041 - val_accuracy: 0.4869 - val_loss: 1.8830\n",
            "Epoch 4/5\n",
            "113/113 - 9s - 76ms/step - accuracy: 0.6014 - loss: 1.6123 - val_accuracy: 0.4730 - val_loss: 2.0451\n",
            "Epoch 5/5\n",
            "113/113 - 7s - 64ms/step - accuracy: 0.6928 - loss: 1.3027 - val_accuracy: 0.4719 - val_loss: 2.0804\n",
            "SimpleRNN Test Accuracy: 0.4653\n",
            "\n",
            ">>> Training GRU on Reuters\n",
            "Epoch 1/5\n",
            "113/113 - 18s - 163ms/step - accuracy: 0.3595 - loss: 2.6332 - val_accuracy: 0.4619 - val_loss: 2.1138\n",
            "Epoch 2/5\n",
            "113/113 - 16s - 142ms/step - accuracy: 0.5134 - loss: 1.8990 - val_accuracy: 0.5437 - val_loss: 1.7593\n",
            "Epoch 3/5\n",
            "113/113 - 20s - 181ms/step - accuracy: 0.5773 - loss: 1.6575 - val_accuracy: 0.5626 - val_loss: 1.6941\n",
            "Epoch 4/5\n",
            "113/113 - 21s - 190ms/step - accuracy: 0.6070 - loss: 1.5674 - val_accuracy: 0.5943 - val_loss: 1.6865\n",
            "Epoch 5/5\n",
            "113/113 - 18s - 159ms/step - accuracy: 0.6405 - loss: 1.4845 - val_accuracy: 0.5748 - val_loss: 1.6815\n",
            "GRU Test Accuracy: 0.5801\n",
            "\n",
            ">>> Training LSTM on Reuters\n",
            "Epoch 1/5\n",
            "113/113 - 17s - 146ms/step - accuracy: 0.3516 - loss: 2.6792 - val_accuracy: 0.3450 - val_loss: 2.3101\n",
            "Epoch 2/5\n",
            "113/113 - 14s - 122ms/step - accuracy: 0.4990 - loss: 2.0663 - val_accuracy: 0.4424 - val_loss: 2.0213\n",
            "Epoch 3/5\n",
            "113/113 - 13s - 119ms/step - accuracy: 0.5641 - loss: 1.7675 - val_accuracy: 0.5292 - val_loss: 1.7852\n",
            "Epoch 4/5\n",
            "113/113 - 14s - 122ms/step - accuracy: 0.5871 - loss: 1.6282 - val_accuracy: 0.5771 - val_loss: 1.6484\n",
            "Epoch 5/5\n",
            "113/113 - 21s - 184ms/step - accuracy: 0.6349 - loss: 1.4551 - val_accuracy: 0.5960 - val_loss: 1.6018\n",
            "LSTM Test Accuracy: 0.6037\n"
          ]
        }
      ]
    },
    {
      "cell_type": "markdown",
      "source": [
        "**3. Explanation of other classes**\n",
        "\n",
        "Keras splits its sequence‐processing API into two main concepts: the RNN wrapper (a layer that loops over time steps) and the Cell (an object that processes exactly one time step).\n",
        "\n",
        "Overview of various classes of Keras\n",
        "\n",
        "1. tf.keras.layers.RNN\n",
        "\n",
        "A generic recurrent‐loop layer that can wrap any RNNCell.\n",
        "\n",
        "Purpose: Iterates a given cell over time steps of an input sequence.\n",
        "\n",
        "Key arguments\n",
        "\n",
        "cell: one or a StackedRNNCells of RNNCell instances\n",
        "\n",
        "return_sequences: whether to return output at every step (True) or only the final output (False)\n",
        "\n",
        "return_state: whether to output the last hidden (and cell) states\n",
        "\n",
        "go_backwards, stateful, unroll for fine‐grained control\n",
        "\n",
        "Use cases\n",
        "\n",
        "Custom RNNs built from scratch (e.g., attention cells, neuromorphic cells)\n",
        "\n",
        "Accessing lower‐level cell APIs\n",
        "```python\n",
        "cell = keras.layers.LSTMCell(units=32)\n",
        "rnn  = keras.layers.RNN(cell, return_sequences=True)\n",
        "out  = rnn(input_seq)  # input_seq shape: (batch, timesteps, features)\n",
        "```\n",
        "---\n",
        "2. SimpleRNNCell\n",
        "\n",
        "The single‐step implementation of a vanilla RNN.\n",
        "\n",
        "State: one hidden state h_t.\n",
        "\n",
        "Parameters\n",
        "\n",
        "kernel: weights for the input (x_t → h_t)\n",
        "\n",
        "recurrent_kernel: weights for the previous state (h_{t-1} → h_t)\n",
        "\n",
        "bias\n",
        "\n",
        "Usage\n",
        "\n",
        "Wrapped by layers.RNN(SimpleRNNCell(...)) for full‐sequence processing\n",
        "\n",
        "Useful for research when you need to combine or modify basic RNN steps\n",
        "\n",
        "---\n",
        "3. GRUCell\n",
        "\n",
        "A single‐step Gated Recurrent Unit (GRU).\n",
        "\n",
        "State: one hidden state h_t (no separate cell state).\n",
        "\n",
        "Gates: update and reset gates controlling flow of information.\n",
        "\n",
        "Parameters\n",
        "\n",
        "kernel, recurrent_kernel, bias (including separate biases for each gate)\n",
        "\n",
        "Usage\n",
        "```python\n",
        "cell = keras.layers.GRUCell(units=64)\n",
        "rnn  = keras.layers.RNN(cell, return_state=True)\n",
        "output, final_state = rnn(input_seq)\n",
        "```\n",
        "---\n",
        "4. LSTMCell\n",
        "\n",
        "A single‐step Long Short‐Term Memory (LSTM) cell.\n",
        "\n",
        "State: two tensors\n",
        "\n",
        "hidden state h_t\n",
        "\n",
        "cell state c_t\n",
        "\n",
        "Gates: input, forget, output gates, plus cell candidate.\n",
        "\n",
        "Parameters\n",
        "\n",
        "kernel, recurrent_kernel, bias (for all four gates)\n",
        "\n",
        "Usage\n",
        "```python\n",
        "cell = keras.layers.LSTMCell(units=128)\n",
        "rnn  = keras.layers.RNN(cell, return_state=True)\n",
        "out, h_final, c_final = rnn(input_seq)\n",
        "```\n",
        "---\n",
        "5. StackedRNNCells\n",
        "\n",
        "A container that chains multiple RNNCell instances into a single composite cell.\n",
        "\n",
        "Purpose: Build deep (multi‐layer) RNNs within a single RNN wrapper.\n",
        "\n",
        "Arguments\n",
        "\n",
        "cells: list of RNNCell instances (e.g., two LSTMCell objects)\n",
        "\n",
        "Behaviors\n",
        "\n",
        "At each time step, feeds input through the first cell, then its output into the next, and so on.\n",
        "\n",
        "Usage\n",
        "```python\n",
        "cells       = [keras.layers.LSTMCell(64), keras.layers.LSTMCell(64)]\n",
        "stacked_cell = keras.layers.StackedRNNCells(cells)\n",
        "rnn          = keras.layers.RNN(stacked_cell, return_sequences=True)\n",
        "out_seq      = rnn(input_seq)\n",
        "```\n",
        "---\n",
        "6. CuDNNGRU and CuDNNLSTM\n",
        "\n",
        "GPU-optimized implementations of GRU and LSTM backed by NVIDIA’s cuDNN library.\n",
        "\n",
        "Advantages: Up to 10× faster on supported GPUs.\n",
        "\n",
        "Constraints\n",
        "\n",
        "No masking support\n",
        "\n",
        "Fixed activations (tanh for cell, sigmoid for gates)\n",
        "\n",
        "No recurrent dropout\n",
        "\n",
        "Status in TF-2.x\n",
        "\n",
        "tf.keras.layers.GRU and tf.keras.layers.LSTM automatically use the CuDNN kernels when run on GPU and when their configuration matches cuDNN constraints.\n",
        "\n",
        "The separate CuDNNGRU / CuDNNLSTM classes exist primarily for backward compatibility.\n",
        "\n",
        "Usage\n",
        "```python\n",
        "# In TF-1.x you might have used:\n",
        "x = Input((timesteps, features))\n",
        "y = tf.keras.layers.CuDNNLSTM(128)(x)\n",
        "\n",
        "# In TF-2.x simply:\n",
        "y = tf.keras.layers.LSTM(128)(x)  # uses cuDNN when possible\n",
        "```\n",
        "---\n",
        "When to Use Which\n",
        "\n",
        ">SimpleRNN, GRU, LSTM layers: high-level, drop-in sequence layers for most tasks.\n",
        "\n",
        ">RNN + *Cell: when you need custom time‐step logic or wish to combine cells in novel ways.\n",
        "\n",
        ">StackedRNNCells: to build a multi‐layer RNN without stacking multiple RNN layers (keeps state management in one object).\n",
        "\n",
        ">CuDNNGRU / CuDNNLSTM: primarily of historic interest; in modern TF-2.x just configure GRU/LSTM for automatic GPU acceleration."
      ],
      "metadata": {
        "id": "FbOmLqx0nYfm"
      }
    }
  ]
}